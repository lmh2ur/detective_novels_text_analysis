{
 "cells": [
  {
   "cell_type": "markdown",
   "id": "4db6f774",
   "metadata": {},
   "source": [
    "# Sentiment Analysis\n",
    "Leah Hogenmiller (lmh2ur)"
   ]
  },
  {
   "cell_type": "markdown",
   "id": "f39062d8",
   "metadata": {},
   "source": [
    "## Set Up"
   ]
  },
  {
   "cell_type": "code",
   "execution_count": 40,
   "id": "22fb7045",
   "metadata": {},
   "outputs": [],
   "source": [
    "import pandas as pd\n",
    "import numpy as np\n",
    "import seaborn as sns; sns.set()\n",
    "import plotly_express as px\n",
    "from IPython.display import display, HTML"
   ]
  },
  {
   "cell_type": "code",
   "execution_count": 41,
   "id": "49a6f546",
   "metadata": {},
   "outputs": [],
   "source": [
    "OHCO = ['book_id', 'chap_id', 'para_num', 'sent_num', 'token_num']\n",
    "SENTS = OHCO[:4]\n",
    "PARAS = OHCO[:3]\n",
    "CHAPS = OHCO[:2]\n",
    "BOOKS = OHCO[:1]"
   ]
  },
  {
   "cell_type": "markdown",
   "id": "c8943ad7",
   "metadata": {},
   "source": [
    "## Importing Tables"
   ]
  },
  {
   "cell_type": "code",
   "execution_count": 42,
   "id": "8eb38118",
   "metadata": {},
   "outputs": [],
   "source": [
    "CORPUS = pd.read_csv('CORPUS.csv').set_index(OHCO).sort_index()\n",
    "VOCAB = pd.read_csv('VOCAB.csv').set_index('term_str').sort_index()\n",
    "LIB = pd.read_csv('LIB.csv').set_index('book_id')[['author','title']].sort_index()\n",
    "BOW = pd.read_csv('BOW.csv').set_index(['book_id','chap_id','term_str']).sort_index()"
   ]
  },
  {
   "cell_type": "code",
   "execution_count": 43,
   "id": "df6aa505",
   "metadata": {},
   "outputs": [],
   "source": [
    "SALEX = pd.read_csv('salex_nrc.csv').set_index('term_str')\n",
    "emo_cols = \"anger anticipation disgust fear joy sadness surprise trust sentiment\".split()"
   ]
  },
  {
   "cell_type": "code",
   "execution_count": 44,
   "id": "83e2df10",
   "metadata": {},
   "outputs": [
    {
     "data": {
      "text/html": [
       "<div>\n",
       "<style scoped>\n",
       "    .dataframe tbody tr th:only-of-type {\n",
       "        vertical-align: middle;\n",
       "    }\n",
       "\n",
       "    .dataframe tbody tr th {\n",
       "        vertical-align: top;\n",
       "    }\n",
       "\n",
       "    .dataframe thead th {\n",
       "        text-align: right;\n",
       "    }\n",
       "</style>\n",
       "<table border=\"1\" class=\"dataframe\">\n",
       "  <thead>\n",
       "    <tr style=\"text-align: right;\">\n",
       "      <th></th>\n",
       "      <th>nrc_anger</th>\n",
       "      <th>nrc_anticipation</th>\n",
       "      <th>nrc_disgust</th>\n",
       "      <th>nrc_fear</th>\n",
       "      <th>nrc_joy</th>\n",
       "      <th>nrc_negative</th>\n",
       "      <th>nrc_positive</th>\n",
       "      <th>nrc_sadness</th>\n",
       "      <th>nrc_surprise</th>\n",
       "      <th>nrc_trust</th>\n",
       "      <th>nrc_sentiment</th>\n",
       "    </tr>\n",
       "    <tr>\n",
       "      <th>term_str</th>\n",
       "      <th></th>\n",
       "      <th></th>\n",
       "      <th></th>\n",
       "      <th></th>\n",
       "      <th></th>\n",
       "      <th></th>\n",
       "      <th></th>\n",
       "      <th></th>\n",
       "      <th></th>\n",
       "      <th></th>\n",
       "      <th></th>\n",
       "    </tr>\n",
       "  </thead>\n",
       "  <tbody>\n",
       "    <tr>\n",
       "      <th>abandon</th>\n",
       "      <td>0</td>\n",
       "      <td>0</td>\n",
       "      <td>0</td>\n",
       "      <td>1</td>\n",
       "      <td>0</td>\n",
       "      <td>1</td>\n",
       "      <td>0</td>\n",
       "      <td>1</td>\n",
       "      <td>0</td>\n",
       "      <td>0</td>\n",
       "      <td>-1</td>\n",
       "    </tr>\n",
       "    <tr>\n",
       "      <th>abandoned</th>\n",
       "      <td>1</td>\n",
       "      <td>0</td>\n",
       "      <td>0</td>\n",
       "      <td>1</td>\n",
       "      <td>0</td>\n",
       "      <td>1</td>\n",
       "      <td>0</td>\n",
       "      <td>1</td>\n",
       "      <td>0</td>\n",
       "      <td>0</td>\n",
       "      <td>-1</td>\n",
       "    </tr>\n",
       "    <tr>\n",
       "      <th>abandonment</th>\n",
       "      <td>1</td>\n",
       "      <td>0</td>\n",
       "      <td>0</td>\n",
       "      <td>1</td>\n",
       "      <td>0</td>\n",
       "      <td>1</td>\n",
       "      <td>0</td>\n",
       "      <td>1</td>\n",
       "      <td>1</td>\n",
       "      <td>0</td>\n",
       "      <td>-1</td>\n",
       "    </tr>\n",
       "    <tr>\n",
       "      <th>abduction</th>\n",
       "      <td>0</td>\n",
       "      <td>0</td>\n",
       "      <td>0</td>\n",
       "      <td>1</td>\n",
       "      <td>0</td>\n",
       "      <td>1</td>\n",
       "      <td>0</td>\n",
       "      <td>1</td>\n",
       "      <td>1</td>\n",
       "      <td>0</td>\n",
       "      <td>-1</td>\n",
       "    </tr>\n",
       "    <tr>\n",
       "      <th>aberration</th>\n",
       "      <td>0</td>\n",
       "      <td>0</td>\n",
       "      <td>1</td>\n",
       "      <td>0</td>\n",
       "      <td>0</td>\n",
       "      <td>1</td>\n",
       "      <td>0</td>\n",
       "      <td>0</td>\n",
       "      <td>0</td>\n",
       "      <td>0</td>\n",
       "      <td>-1</td>\n",
       "    </tr>\n",
       "    <tr>\n",
       "      <th>...</th>\n",
       "      <td>...</td>\n",
       "      <td>...</td>\n",
       "      <td>...</td>\n",
       "      <td>...</td>\n",
       "      <td>...</td>\n",
       "      <td>...</td>\n",
       "      <td>...</td>\n",
       "      <td>...</td>\n",
       "      <td>...</td>\n",
       "      <td>...</td>\n",
       "      <td>...</td>\n",
       "    </tr>\n",
       "    <tr>\n",
       "      <th>young</th>\n",
       "      <td>0</td>\n",
       "      <td>1</td>\n",
       "      <td>0</td>\n",
       "      <td>0</td>\n",
       "      <td>1</td>\n",
       "      <td>0</td>\n",
       "      <td>1</td>\n",
       "      <td>0</td>\n",
       "      <td>1</td>\n",
       "      <td>0</td>\n",
       "      <td>1</td>\n",
       "    </tr>\n",
       "    <tr>\n",
       "      <th>youth</th>\n",
       "      <td>1</td>\n",
       "      <td>1</td>\n",
       "      <td>0</td>\n",
       "      <td>1</td>\n",
       "      <td>1</td>\n",
       "      <td>0</td>\n",
       "      <td>1</td>\n",
       "      <td>0</td>\n",
       "      <td>1</td>\n",
       "      <td>0</td>\n",
       "      <td>1</td>\n",
       "    </tr>\n",
       "    <tr>\n",
       "      <th>zeal</th>\n",
       "      <td>0</td>\n",
       "      <td>1</td>\n",
       "      <td>0</td>\n",
       "      <td>0</td>\n",
       "      <td>1</td>\n",
       "      <td>0</td>\n",
       "      <td>1</td>\n",
       "      <td>0</td>\n",
       "      <td>1</td>\n",
       "      <td>1</td>\n",
       "      <td>1</td>\n",
       "    </tr>\n",
       "    <tr>\n",
       "      <th>zealous</th>\n",
       "      <td>0</td>\n",
       "      <td>0</td>\n",
       "      <td>0</td>\n",
       "      <td>0</td>\n",
       "      <td>1</td>\n",
       "      <td>0</td>\n",
       "      <td>1</td>\n",
       "      <td>0</td>\n",
       "      <td>0</td>\n",
       "      <td>1</td>\n",
       "      <td>1</td>\n",
       "    </tr>\n",
       "    <tr>\n",
       "      <th>zest</th>\n",
       "      <td>0</td>\n",
       "      <td>1</td>\n",
       "      <td>0</td>\n",
       "      <td>0</td>\n",
       "      <td>1</td>\n",
       "      <td>0</td>\n",
       "      <td>1</td>\n",
       "      <td>0</td>\n",
       "      <td>0</td>\n",
       "      <td>1</td>\n",
       "      <td>1</td>\n",
       "    </tr>\n",
       "  </tbody>\n",
       "</table>\n",
       "<p>3688 rows × 11 columns</p>\n",
       "</div>"
      ],
      "text/plain": [
       "             nrc_anger  nrc_anticipation  nrc_disgust  nrc_fear  nrc_joy  \\\n",
       "term_str                                                                   \n",
       "abandon              0                 0            0         1        0   \n",
       "abandoned            1                 0            0         1        0   \n",
       "abandonment          1                 0            0         1        0   \n",
       "abduction            0                 0            0         1        0   \n",
       "aberration           0                 0            1         0        0   \n",
       "...                ...               ...          ...       ...      ...   \n",
       "young                0                 1            0         0        1   \n",
       "youth                1                 1            0         1        1   \n",
       "zeal                 0                 1            0         0        1   \n",
       "zealous              0                 0            0         0        1   \n",
       "zest                 0                 1            0         0        1   \n",
       "\n",
       "             nrc_negative  nrc_positive  nrc_sadness  nrc_surprise  nrc_trust  \\\n",
       "term_str                                                                        \n",
       "abandon                 1             0            1             0          0   \n",
       "abandoned               1             0            1             0          0   \n",
       "abandonment             1             0            1             1          0   \n",
       "abduction               1             0            1             1          0   \n",
       "aberration              1             0            0             0          0   \n",
       "...                   ...           ...          ...           ...        ...   \n",
       "young                   0             1            0             1          0   \n",
       "youth                   0             1            0             1          0   \n",
       "zeal                    0             1            0             1          1   \n",
       "zealous                 0             1            0             0          1   \n",
       "zest                    0             1            0             0          1   \n",
       "\n",
       "             nrc_sentiment  \n",
       "term_str                    \n",
       "abandon                 -1  \n",
       "abandoned               -1  \n",
       "abandonment             -1  \n",
       "abduction               -1  \n",
       "aberration              -1  \n",
       "...                    ...  \n",
       "young                    1  \n",
       "youth                    1  \n",
       "zeal                     1  \n",
       "zealous                  1  \n",
       "zest                     1  \n",
       "\n",
       "[3688 rows x 11 columns]"
      ]
     },
     "execution_count": 44,
     "metadata": {},
     "output_type": "execute_result"
    }
   ],
   "source": [
    "SALEX"
   ]
  },
  {
   "cell_type": "code",
   "execution_count": 45,
   "id": "0f8ca713",
   "metadata": {},
   "outputs": [],
   "source": [
    "LIB['title_short'] = LIB.author + ' ' + LIB.index.astype('str') + ': ' + LIB.title.str[:25] "
   ]
  },
  {
   "cell_type": "markdown",
   "id": "f2f02a4f",
   "metadata": {},
   "source": [
    "## Get SA Lexicon"
   ]
  },
  {
   "cell_type": "code",
   "execution_count": 46,
   "id": "e5e2a366",
   "metadata": {},
   "outputs": [],
   "source": [
    "SALEX.columns = [col.replace('nrc_','') for col in SALEX.columns]"
   ]
  },
  {
   "cell_type": "code",
   "execution_count": 47,
   "id": "aeeb9267",
   "metadata": {},
   "outputs": [
    {
     "data": {
      "text/html": [
       "<div>\n",
       "<style scoped>\n",
       "    .dataframe tbody tr th:only-of-type {\n",
       "        vertical-align: middle;\n",
       "    }\n",
       "\n",
       "    .dataframe tbody tr th {\n",
       "        vertical-align: top;\n",
       "    }\n",
       "\n",
       "    .dataframe thead th {\n",
       "        text-align: right;\n",
       "    }\n",
       "</style>\n",
       "<table border=\"1\" class=\"dataframe\">\n",
       "  <thead>\n",
       "    <tr style=\"text-align: right;\">\n",
       "      <th></th>\n",
       "      <th>anger</th>\n",
       "      <th>anticipation</th>\n",
       "      <th>disgust</th>\n",
       "      <th>fear</th>\n",
       "      <th>joy</th>\n",
       "      <th>negative</th>\n",
       "      <th>positive</th>\n",
       "      <th>sadness</th>\n",
       "      <th>surprise</th>\n",
       "      <th>trust</th>\n",
       "      <th>sentiment</th>\n",
       "    </tr>\n",
       "    <tr>\n",
       "      <th>term_str</th>\n",
       "      <th></th>\n",
       "      <th></th>\n",
       "      <th></th>\n",
       "      <th></th>\n",
       "      <th></th>\n",
       "      <th></th>\n",
       "      <th></th>\n",
       "      <th></th>\n",
       "      <th></th>\n",
       "      <th></th>\n",
       "      <th></th>\n",
       "    </tr>\n",
       "  </thead>\n",
       "  <tbody>\n",
       "    <tr>\n",
       "      <th>abandon</th>\n",
       "      <td>0</td>\n",
       "      <td>0</td>\n",
       "      <td>0</td>\n",
       "      <td>1</td>\n",
       "      <td>0</td>\n",
       "      <td>1</td>\n",
       "      <td>0</td>\n",
       "      <td>1</td>\n",
       "      <td>0</td>\n",
       "      <td>0</td>\n",
       "      <td>-1</td>\n",
       "    </tr>\n",
       "    <tr>\n",
       "      <th>abandoned</th>\n",
       "      <td>1</td>\n",
       "      <td>0</td>\n",
       "      <td>0</td>\n",
       "      <td>1</td>\n",
       "      <td>0</td>\n",
       "      <td>1</td>\n",
       "      <td>0</td>\n",
       "      <td>1</td>\n",
       "      <td>0</td>\n",
       "      <td>0</td>\n",
       "      <td>-1</td>\n",
       "    </tr>\n",
       "    <tr>\n",
       "      <th>abandonment</th>\n",
       "      <td>1</td>\n",
       "      <td>0</td>\n",
       "      <td>0</td>\n",
       "      <td>1</td>\n",
       "      <td>0</td>\n",
       "      <td>1</td>\n",
       "      <td>0</td>\n",
       "      <td>1</td>\n",
       "      <td>1</td>\n",
       "      <td>0</td>\n",
       "      <td>-1</td>\n",
       "    </tr>\n",
       "    <tr>\n",
       "      <th>abduction</th>\n",
       "      <td>0</td>\n",
       "      <td>0</td>\n",
       "      <td>0</td>\n",
       "      <td>1</td>\n",
       "      <td>0</td>\n",
       "      <td>1</td>\n",
       "      <td>0</td>\n",
       "      <td>1</td>\n",
       "      <td>1</td>\n",
       "      <td>0</td>\n",
       "      <td>-1</td>\n",
       "    </tr>\n",
       "    <tr>\n",
       "      <th>aberration</th>\n",
       "      <td>0</td>\n",
       "      <td>0</td>\n",
       "      <td>1</td>\n",
       "      <td>0</td>\n",
       "      <td>0</td>\n",
       "      <td>1</td>\n",
       "      <td>0</td>\n",
       "      <td>0</td>\n",
       "      <td>0</td>\n",
       "      <td>0</td>\n",
       "      <td>-1</td>\n",
       "    </tr>\n",
       "    <tr>\n",
       "      <th>...</th>\n",
       "      <td>...</td>\n",
       "      <td>...</td>\n",
       "      <td>...</td>\n",
       "      <td>...</td>\n",
       "      <td>...</td>\n",
       "      <td>...</td>\n",
       "      <td>...</td>\n",
       "      <td>...</td>\n",
       "      <td>...</td>\n",
       "      <td>...</td>\n",
       "      <td>...</td>\n",
       "    </tr>\n",
       "    <tr>\n",
       "      <th>young</th>\n",
       "      <td>0</td>\n",
       "      <td>1</td>\n",
       "      <td>0</td>\n",
       "      <td>0</td>\n",
       "      <td>1</td>\n",
       "      <td>0</td>\n",
       "      <td>1</td>\n",
       "      <td>0</td>\n",
       "      <td>1</td>\n",
       "      <td>0</td>\n",
       "      <td>1</td>\n",
       "    </tr>\n",
       "    <tr>\n",
       "      <th>youth</th>\n",
       "      <td>1</td>\n",
       "      <td>1</td>\n",
       "      <td>0</td>\n",
       "      <td>1</td>\n",
       "      <td>1</td>\n",
       "      <td>0</td>\n",
       "      <td>1</td>\n",
       "      <td>0</td>\n",
       "      <td>1</td>\n",
       "      <td>0</td>\n",
       "      <td>1</td>\n",
       "    </tr>\n",
       "    <tr>\n",
       "      <th>zeal</th>\n",
       "      <td>0</td>\n",
       "      <td>1</td>\n",
       "      <td>0</td>\n",
       "      <td>0</td>\n",
       "      <td>1</td>\n",
       "      <td>0</td>\n",
       "      <td>1</td>\n",
       "      <td>0</td>\n",
       "      <td>1</td>\n",
       "      <td>1</td>\n",
       "      <td>1</td>\n",
       "    </tr>\n",
       "    <tr>\n",
       "      <th>zealous</th>\n",
       "      <td>0</td>\n",
       "      <td>0</td>\n",
       "      <td>0</td>\n",
       "      <td>0</td>\n",
       "      <td>1</td>\n",
       "      <td>0</td>\n",
       "      <td>1</td>\n",
       "      <td>0</td>\n",
       "      <td>0</td>\n",
       "      <td>1</td>\n",
       "      <td>1</td>\n",
       "    </tr>\n",
       "    <tr>\n",
       "      <th>zest</th>\n",
       "      <td>0</td>\n",
       "      <td>1</td>\n",
       "      <td>0</td>\n",
       "      <td>0</td>\n",
       "      <td>1</td>\n",
       "      <td>0</td>\n",
       "      <td>1</td>\n",
       "      <td>0</td>\n",
       "      <td>0</td>\n",
       "      <td>1</td>\n",
       "      <td>1</td>\n",
       "    </tr>\n",
       "  </tbody>\n",
       "</table>\n",
       "<p>3688 rows × 11 columns</p>\n",
       "</div>"
      ],
      "text/plain": [
       "             anger  anticipation  disgust  fear  joy  negative  positive  \\\n",
       "term_str                                                                   \n",
       "abandon          0             0        0     1    0         1         0   \n",
       "abandoned        1             0        0     1    0         1         0   \n",
       "abandonment      1             0        0     1    0         1         0   \n",
       "abduction        0             0        0     1    0         1         0   \n",
       "aberration       0             0        1     0    0         1         0   \n",
       "...            ...           ...      ...   ...  ...       ...       ...   \n",
       "young            0             1        0     0    1         0         1   \n",
       "youth            1             1        0     1    1         0         1   \n",
       "zeal             0             1        0     0    1         0         1   \n",
       "zealous          0             0        0     0    1         0         1   \n",
       "zest             0             1        0     0    1         0         1   \n",
       "\n",
       "             sadness  surprise  trust  sentiment  \n",
       "term_str                                          \n",
       "abandon            1         0      0         -1  \n",
       "abandoned          1         0      0         -1  \n",
       "abandonment        1         1      0         -1  \n",
       "abduction          1         1      0         -1  \n",
       "aberration         0         0      0         -1  \n",
       "...              ...       ...    ...        ...  \n",
       "young              0         1      0          1  \n",
       "youth              0         1      0          1  \n",
       "zeal               0         1      1          1  \n",
       "zealous            0         0      1          1  \n",
       "zest               0         0      1          1  \n",
       "\n",
       "[3688 rows x 11 columns]"
      ]
     },
     "execution_count": 47,
     "metadata": {},
     "output_type": "execute_result"
    }
   ],
   "source": [
    "SALEX"
   ]
  },
  {
   "cell_type": "code",
   "execution_count": 48,
   "id": "7b405d0f",
   "metadata": {},
   "outputs": [],
   "source": [
    "SALEX.to_csv('SALEX.csv')"
   ]
  },
  {
   "cell_type": "markdown",
   "id": "5e394784",
   "metadata": {},
   "source": [
    "## Combine with VOCAB"
   ]
  },
  {
   "cell_type": "code",
   "execution_count": 49,
   "id": "b8566fca",
   "metadata": {},
   "outputs": [],
   "source": [
    "V = pd.concat([VOCAB.reset_index().set_index('term_str'), SALEX], join='inner', axis=1)"
   ]
  },
  {
   "cell_type": "code",
   "execution_count": 50,
   "id": "58fe2785",
   "metadata": {},
   "outputs": [
    {
     "data": {
      "text/html": [
       "<div>\n",
       "<style scoped>\n",
       "    .dataframe tbody tr th:only-of-type {\n",
       "        vertical-align: middle;\n",
       "    }\n",
       "\n",
       "    .dataframe tbody tr th {\n",
       "        vertical-align: top;\n",
       "    }\n",
       "\n",
       "    .dataframe thead th {\n",
       "        text-align: right;\n",
       "    }\n",
       "</style>\n",
       "<table border=\"1\" class=\"dataframe\">\n",
       "  <thead>\n",
       "    <tr style=\"text-align: right;\">\n",
       "      <th></th>\n",
       "      <th>n</th>\n",
       "      <th>n_chars</th>\n",
       "      <th>p</th>\n",
       "      <th>i</th>\n",
       "      <th>max_pos</th>\n",
       "      <th>df</th>\n",
       "      <th>idf</th>\n",
       "      <th>dfidf</th>\n",
       "      <th>tfidf_mean</th>\n",
       "      <th>tfidf_sum</th>\n",
       "      <th>...</th>\n",
       "      <th>anticipation</th>\n",
       "      <th>disgust</th>\n",
       "      <th>fear</th>\n",
       "      <th>joy</th>\n",
       "      <th>negative</th>\n",
       "      <th>positive</th>\n",
       "      <th>sadness</th>\n",
       "      <th>surprise</th>\n",
       "      <th>trust</th>\n",
       "      <th>sentiment</th>\n",
       "    </tr>\n",
       "    <tr>\n",
       "      <th>term_str</th>\n",
       "      <th></th>\n",
       "      <th></th>\n",
       "      <th></th>\n",
       "      <th></th>\n",
       "      <th></th>\n",
       "      <th></th>\n",
       "      <th></th>\n",
       "      <th></th>\n",
       "      <th></th>\n",
       "      <th></th>\n",
       "      <th></th>\n",
       "      <th></th>\n",
       "      <th></th>\n",
       "      <th></th>\n",
       "      <th></th>\n",
       "      <th></th>\n",
       "      <th></th>\n",
       "      <th></th>\n",
       "      <th></th>\n",
       "      <th></th>\n",
       "      <th></th>\n",
       "    </tr>\n",
       "  </thead>\n",
       "  <tbody>\n",
       "    <tr>\n",
       "      <th>abandon</th>\n",
       "      <td>12</td>\n",
       "      <td>7</td>\n",
       "      <td>0.000014</td>\n",
       "      <td>16.159438</td>\n",
       "      <td>VB</td>\n",
       "      <td>10</td>\n",
       "      <td>4.705978</td>\n",
       "      <td>47.059779</td>\n",
       "      <td>0.000065</td>\n",
       "      <td>0.016867</td>\n",
       "      <td>...</td>\n",
       "      <td>0</td>\n",
       "      <td>0</td>\n",
       "      <td>1</td>\n",
       "      <td>0</td>\n",
       "      <td>1</td>\n",
       "      <td>0</td>\n",
       "      <td>1</td>\n",
       "      <td>0</td>\n",
       "      <td>0</td>\n",
       "      <td>-1</td>\n",
       "    </tr>\n",
       "    <tr>\n",
       "      <th>abandoned</th>\n",
       "      <td>23</td>\n",
       "      <td>9</td>\n",
       "      <td>0.000026</td>\n",
       "      <td>15.220838</td>\n",
       "      <td>VB</td>\n",
       "      <td>22</td>\n",
       "      <td>3.568474</td>\n",
       "      <td>78.506436</td>\n",
       "      <td>0.000095</td>\n",
       "      <td>0.024756</td>\n",
       "      <td>...</td>\n",
       "      <td>0</td>\n",
       "      <td>0</td>\n",
       "      <td>1</td>\n",
       "      <td>0</td>\n",
       "      <td>1</td>\n",
       "      <td>0</td>\n",
       "      <td>1</td>\n",
       "      <td>0</td>\n",
       "      <td>0</td>\n",
       "      <td>-1</td>\n",
       "    </tr>\n",
       "    <tr>\n",
       "      <th>abandonment</th>\n",
       "      <td>1</td>\n",
       "      <td>11</td>\n",
       "      <td>0.000001</td>\n",
       "      <td>19.744400</td>\n",
       "      <td>NN</td>\n",
       "      <td>1</td>\n",
       "      <td>8.027906</td>\n",
       "      <td>8.027906</td>\n",
       "      <td>0.000014</td>\n",
       "      <td>0.003664</td>\n",
       "      <td>...</td>\n",
       "      <td>0</td>\n",
       "      <td>0</td>\n",
       "      <td>1</td>\n",
       "      <td>0</td>\n",
       "      <td>1</td>\n",
       "      <td>0</td>\n",
       "      <td>1</td>\n",
       "      <td>1</td>\n",
       "      <td>0</td>\n",
       "      <td>-1</td>\n",
       "    </tr>\n",
       "    <tr>\n",
       "      <th>abduction</th>\n",
       "      <td>1</td>\n",
       "      <td>9</td>\n",
       "      <td>0.000001</td>\n",
       "      <td>19.744400</td>\n",
       "      <td>NN</td>\n",
       "      <td>1</td>\n",
       "      <td>8.027906</td>\n",
       "      <td>8.027906</td>\n",
       "      <td>0.000007</td>\n",
       "      <td>0.001931</td>\n",
       "      <td>...</td>\n",
       "      <td>0</td>\n",
       "      <td>0</td>\n",
       "      <td>1</td>\n",
       "      <td>0</td>\n",
       "      <td>1</td>\n",
       "      <td>0</td>\n",
       "      <td>1</td>\n",
       "      <td>1</td>\n",
       "      <td>0</td>\n",
       "      <td>-1</td>\n",
       "    </tr>\n",
       "    <tr>\n",
       "      <th>abhor</th>\n",
       "      <td>2</td>\n",
       "      <td>5</td>\n",
       "      <td>0.000002</td>\n",
       "      <td>18.744400</td>\n",
       "      <td>VB</td>\n",
       "      <td>2</td>\n",
       "      <td>7.027906</td>\n",
       "      <td>14.055812</td>\n",
       "      <td>0.000015</td>\n",
       "      <td>0.003902</td>\n",
       "      <td>...</td>\n",
       "      <td>0</td>\n",
       "      <td>1</td>\n",
       "      <td>1</td>\n",
       "      <td>0</td>\n",
       "      <td>1</td>\n",
       "      <td>0</td>\n",
       "      <td>0</td>\n",
       "      <td>0</td>\n",
       "      <td>0</td>\n",
       "      <td>-1</td>\n",
       "    </tr>\n",
       "    <tr>\n",
       "      <th>...</th>\n",
       "      <td>...</td>\n",
       "      <td>...</td>\n",
       "      <td>...</td>\n",
       "      <td>...</td>\n",
       "      <td>...</td>\n",
       "      <td>...</td>\n",
       "      <td>...</td>\n",
       "      <td>...</td>\n",
       "      <td>...</td>\n",
       "      <td>...</td>\n",
       "      <td>...</td>\n",
       "      <td>...</td>\n",
       "      <td>...</td>\n",
       "      <td>...</td>\n",
       "      <td>...</td>\n",
       "      <td>...</td>\n",
       "      <td>...</td>\n",
       "      <td>...</td>\n",
       "      <td>...</td>\n",
       "      <td>...</td>\n",
       "      <td>...</td>\n",
       "    </tr>\n",
       "    <tr>\n",
       "      <th>young</th>\n",
       "      <td>711</td>\n",
       "      <td>5</td>\n",
       "      <td>0.000809</td>\n",
       "      <td>10.270695</td>\n",
       "      <td>JJ</td>\n",
       "      <td>201</td>\n",
       "      <td>0.376854</td>\n",
       "      <td>75.747715</td>\n",
       "      <td>0.000337</td>\n",
       "      <td>0.088061</td>\n",
       "      <td>...</td>\n",
       "      <td>1</td>\n",
       "      <td>0</td>\n",
       "      <td>0</td>\n",
       "      <td>1</td>\n",
       "      <td>0</td>\n",
       "      <td>1</td>\n",
       "      <td>0</td>\n",
       "      <td>1</td>\n",
       "      <td>0</td>\n",
       "      <td>1</td>\n",
       "    </tr>\n",
       "    <tr>\n",
       "      <th>youth</th>\n",
       "      <td>40</td>\n",
       "      <td>5</td>\n",
       "      <td>0.000046</td>\n",
       "      <td>14.422472</td>\n",
       "      <td>NN</td>\n",
       "      <td>38</td>\n",
       "      <td>2.779978</td>\n",
       "      <td>105.639182</td>\n",
       "      <td>0.000133</td>\n",
       "      <td>0.034653</td>\n",
       "      <td>...</td>\n",
       "      <td>1</td>\n",
       "      <td>0</td>\n",
       "      <td>1</td>\n",
       "      <td>1</td>\n",
       "      <td>0</td>\n",
       "      <td>1</td>\n",
       "      <td>0</td>\n",
       "      <td>1</td>\n",
       "      <td>0</td>\n",
       "      <td>1</td>\n",
       "    </tr>\n",
       "    <tr>\n",
       "      <th>zeal</th>\n",
       "      <td>9</td>\n",
       "      <td>4</td>\n",
       "      <td>0.000010</td>\n",
       "      <td>16.574475</td>\n",
       "      <td>NN</td>\n",
       "      <td>9</td>\n",
       "      <td>4.857981</td>\n",
       "      <td>43.721829</td>\n",
       "      <td>0.000057</td>\n",
       "      <td>0.014748</td>\n",
       "      <td>...</td>\n",
       "      <td>1</td>\n",
       "      <td>0</td>\n",
       "      <td>0</td>\n",
       "      <td>1</td>\n",
       "      <td>0</td>\n",
       "      <td>1</td>\n",
       "      <td>0</td>\n",
       "      <td>1</td>\n",
       "      <td>1</td>\n",
       "      <td>1</td>\n",
       "    </tr>\n",
       "    <tr>\n",
       "      <th>zealous</th>\n",
       "      <td>4</td>\n",
       "      <td>7</td>\n",
       "      <td>0.000005</td>\n",
       "      <td>17.744400</td>\n",
       "      <td>JJ</td>\n",
       "      <td>4</td>\n",
       "      <td>6.027906</td>\n",
       "      <td>24.111624</td>\n",
       "      <td>0.000029</td>\n",
       "      <td>0.007504</td>\n",
       "      <td>...</td>\n",
       "      <td>0</td>\n",
       "      <td>0</td>\n",
       "      <td>0</td>\n",
       "      <td>1</td>\n",
       "      <td>0</td>\n",
       "      <td>1</td>\n",
       "      <td>0</td>\n",
       "      <td>0</td>\n",
       "      <td>1</td>\n",
       "      <td>1</td>\n",
       "    </tr>\n",
       "    <tr>\n",
       "      <th>zest</th>\n",
       "      <td>2</td>\n",
       "      <td>4</td>\n",
       "      <td>0.000002</td>\n",
       "      <td>18.744400</td>\n",
       "      <td>NN</td>\n",
       "      <td>2</td>\n",
       "      <td>7.027906</td>\n",
       "      <td>14.055812</td>\n",
       "      <td>0.000007</td>\n",
       "      <td>0.001900</td>\n",
       "      <td>...</td>\n",
       "      <td>1</td>\n",
       "      <td>0</td>\n",
       "      <td>0</td>\n",
       "      <td>1</td>\n",
       "      <td>0</td>\n",
       "      <td>1</td>\n",
       "      <td>0</td>\n",
       "      <td>0</td>\n",
       "      <td>1</td>\n",
       "      <td>1</td>\n",
       "    </tr>\n",
       "  </tbody>\n",
       "</table>\n",
       "<p>2415 rows × 23 columns</p>\n",
       "</div>"
      ],
      "text/plain": [
       "               n  n_chars         p          i max_pos   df       idf  \\\n",
       "term_str                                                                \n",
       "abandon       12        7  0.000014  16.159438      VB   10  4.705978   \n",
       "abandoned     23        9  0.000026  15.220838      VB   22  3.568474   \n",
       "abandonment    1       11  0.000001  19.744400      NN    1  8.027906   \n",
       "abduction      1        9  0.000001  19.744400      NN    1  8.027906   \n",
       "abhor          2        5  0.000002  18.744400      VB    2  7.027906   \n",
       "...          ...      ...       ...        ...     ...  ...       ...   \n",
       "young        711        5  0.000809  10.270695      JJ  201  0.376854   \n",
       "youth         40        5  0.000046  14.422472      NN   38  2.779978   \n",
       "zeal           9        4  0.000010  16.574475      NN    9  4.857981   \n",
       "zealous        4        7  0.000005  17.744400      JJ    4  6.027906   \n",
       "zest           2        4  0.000002  18.744400      NN    2  7.027906   \n",
       "\n",
       "                  dfidf  tfidf_mean  tfidf_sum  ...  anticipation  disgust  \\\n",
       "term_str                                        ...                          \n",
       "abandon       47.059779    0.000065   0.016867  ...             0        0   \n",
       "abandoned     78.506436    0.000095   0.024756  ...             0        0   \n",
       "abandonment    8.027906    0.000014   0.003664  ...             0        0   \n",
       "abduction      8.027906    0.000007   0.001931  ...             0        0   \n",
       "abhor         14.055812    0.000015   0.003902  ...             0        1   \n",
       "...                 ...         ...        ...  ...           ...      ...   \n",
       "young         75.747715    0.000337   0.088061  ...             1        0   \n",
       "youth        105.639182    0.000133   0.034653  ...             1        0   \n",
       "zeal          43.721829    0.000057   0.014748  ...             1        0   \n",
       "zealous       24.111624    0.000029   0.007504  ...             0        0   \n",
       "zest          14.055812    0.000007   0.001900  ...             1        0   \n",
       "\n",
       "             fear  joy  negative  positive  sadness  surprise  trust  \\\n",
       "term_str                                                               \n",
       "abandon         1    0         1         0        1         0      0   \n",
       "abandoned       1    0         1         0        1         0      0   \n",
       "abandonment     1    0         1         0        1         1      0   \n",
       "abduction       1    0         1         0        1         1      0   \n",
       "abhor           1    0         1         0        0         0      0   \n",
       "...           ...  ...       ...       ...      ...       ...    ...   \n",
       "young           0    1         0         1        0         1      0   \n",
       "youth           1    1         0         1        0         1      0   \n",
       "zeal            0    1         0         1        0         1      1   \n",
       "zealous         0    1         0         1        0         0      1   \n",
       "zest            0    1         0         1        0         0      1   \n",
       "\n",
       "             sentiment  \n",
       "term_str                \n",
       "abandon             -1  \n",
       "abandoned           -1  \n",
       "abandonment         -1  \n",
       "abduction           -1  \n",
       "abhor               -1  \n",
       "...                ...  \n",
       "young                1  \n",
       "youth                1  \n",
       "zeal                 1  \n",
       "zealous              1  \n",
       "zest                 1  \n",
       "\n",
       "[2415 rows x 23 columns]"
      ]
     },
     "execution_count": 50,
     "metadata": {},
     "output_type": "execute_result"
    }
   ],
   "source": [
    "V"
   ]
  },
  {
   "cell_type": "code",
   "execution_count": 51,
   "id": "f16e513c",
   "metadata": {},
   "outputs": [],
   "source": [
    "V.to_csv('V.csv')"
   ]
  },
  {
   "cell_type": "markdown",
   "id": "5ff333d4",
   "metadata": {},
   "source": [
    "## Merge VOCAB With BOW"
   ]
  },
  {
   "cell_type": "code",
   "execution_count": 52,
   "id": "7e359b73",
   "metadata": {},
   "outputs": [],
   "source": [
    "B = BOW.join(V[['max_pos'] + emo_cols], on='term_str', rsuffix='_v').dropna()"
   ]
  },
  {
   "cell_type": "code",
   "execution_count": 53,
   "id": "f452e15a",
   "metadata": {},
   "outputs": [
    {
     "data": {
      "text/html": [
       "<div>\n",
       "<style scoped>\n",
       "    .dataframe tbody tr th:only-of-type {\n",
       "        vertical-align: middle;\n",
       "    }\n",
       "\n",
       "    .dataframe tbody tr th {\n",
       "        vertical-align: top;\n",
       "    }\n",
       "\n",
       "    .dataframe thead th {\n",
       "        text-align: right;\n",
       "    }\n",
       "</style>\n",
       "<table border=\"1\" class=\"dataframe\">\n",
       "  <thead>\n",
       "    <tr style=\"text-align: right;\">\n",
       "      <th></th>\n",
       "      <th></th>\n",
       "      <th></th>\n",
       "      <th>n</th>\n",
       "      <th>tf</th>\n",
       "      <th>tfidf</th>\n",
       "      <th>max_pos</th>\n",
       "      <th>anger</th>\n",
       "      <th>anticipation</th>\n",
       "      <th>disgust</th>\n",
       "      <th>fear</th>\n",
       "      <th>joy</th>\n",
       "      <th>sadness</th>\n",
       "      <th>surprise</th>\n",
       "      <th>trust</th>\n",
       "      <th>sentiment</th>\n",
       "    </tr>\n",
       "    <tr>\n",
       "      <th>book_id</th>\n",
       "      <th>chap_id</th>\n",
       "      <th>term_str</th>\n",
       "      <th></th>\n",
       "      <th></th>\n",
       "      <th></th>\n",
       "      <th></th>\n",
       "      <th></th>\n",
       "      <th></th>\n",
       "      <th></th>\n",
       "      <th></th>\n",
       "      <th></th>\n",
       "      <th></th>\n",
       "      <th></th>\n",
       "      <th></th>\n",
       "      <th></th>\n",
       "    </tr>\n",
       "  </thead>\n",
       "  <tbody>\n",
       "    <tr>\n",
       "      <th rowspan=\"5\" valign=\"top\">244</th>\n",
       "      <th rowspan=\"5\" valign=\"top\">1</th>\n",
       "      <th>accurate</th>\n",
       "      <td>1</td>\n",
       "      <td>0.000359</td>\n",
       "      <td>0.001639</td>\n",
       "      <td>JJ</td>\n",
       "      <td>0.0</td>\n",
       "      <td>0.0</td>\n",
       "      <td>0.0</td>\n",
       "      <td>0.0</td>\n",
       "      <td>0.0</td>\n",
       "      <td>0.0</td>\n",
       "      <td>0.0</td>\n",
       "      <td>1.0</td>\n",
       "      <td>1.0</td>\n",
       "    </tr>\n",
       "    <tr>\n",
       "      <th>agreeable</th>\n",
       "      <td>1</td>\n",
       "      <td>0.000359</td>\n",
       "      <td>0.002047</td>\n",
       "      <td>JJ</td>\n",
       "      <td>0.0</td>\n",
       "      <td>0.0</td>\n",
       "      <td>0.0</td>\n",
       "      <td>0.0</td>\n",
       "      <td>0.0</td>\n",
       "      <td>0.0</td>\n",
       "      <td>0.0</td>\n",
       "      <td>1.0</td>\n",
       "      <td>1.0</td>\n",
       "    </tr>\n",
       "    <tr>\n",
       "      <th>alarming</th>\n",
       "      <td>1</td>\n",
       "      <td>0.000359</td>\n",
       "      <td>0.001952</td>\n",
       "      <td>VB</td>\n",
       "      <td>0.0</td>\n",
       "      <td>0.0</td>\n",
       "      <td>0.0</td>\n",
       "      <td>1.0</td>\n",
       "      <td>0.0</td>\n",
       "      <td>0.0</td>\n",
       "      <td>1.0</td>\n",
       "      <td>0.0</td>\n",
       "      <td>-1.0</td>\n",
       "    </tr>\n",
       "    <tr>\n",
       "      <th>annoy</th>\n",
       "      <td>1</td>\n",
       "      <td>0.000359</td>\n",
       "      <td>0.001803</td>\n",
       "      <td>VB</td>\n",
       "      <td>1.0</td>\n",
       "      <td>0.0</td>\n",
       "      <td>1.0</td>\n",
       "      <td>0.0</td>\n",
       "      <td>0.0</td>\n",
       "      <td>0.0</td>\n",
       "      <td>0.0</td>\n",
       "      <td>0.0</td>\n",
       "      <td>-1.0</td>\n",
       "    </tr>\n",
       "    <tr>\n",
       "      <th>astonishment</th>\n",
       "      <td>1</td>\n",
       "      <td>0.000359</td>\n",
       "      <td>0.000727</td>\n",
       "      <td>NN</td>\n",
       "      <td>0.0</td>\n",
       "      <td>0.0</td>\n",
       "      <td>0.0</td>\n",
       "      <td>0.0</td>\n",
       "      <td>1.0</td>\n",
       "      <td>0.0</td>\n",
       "      <td>1.0</td>\n",
       "      <td>0.0</td>\n",
       "      <td>1.0</td>\n",
       "    </tr>\n",
       "    <tr>\n",
       "      <th>...</th>\n",
       "      <th>...</th>\n",
       "      <th>...</th>\n",
       "      <td>...</td>\n",
       "      <td>...</td>\n",
       "      <td>...</td>\n",
       "      <td>...</td>\n",
       "      <td>...</td>\n",
       "      <td>...</td>\n",
       "      <td>...</td>\n",
       "      <td>...</td>\n",
       "      <td>...</td>\n",
       "      <td>...</td>\n",
       "      <td>...</td>\n",
       "      <td>...</td>\n",
       "      <td>...</td>\n",
       "    </tr>\n",
       "    <tr>\n",
       "      <th rowspan=\"5\" valign=\"top\">70114</th>\n",
       "      <th rowspan=\"5\" valign=\"top\">18</th>\n",
       "      <th>war</th>\n",
       "      <td>1</td>\n",
       "      <td>0.000329</td>\n",
       "      <td>0.000698</td>\n",
       "      <td>NN</td>\n",
       "      <td>0.0</td>\n",
       "      <td>0.0</td>\n",
       "      <td>0.0</td>\n",
       "      <td>1.0</td>\n",
       "      <td>0.0</td>\n",
       "      <td>0.0</td>\n",
       "      <td>0.0</td>\n",
       "      <td>0.0</td>\n",
       "      <td>-1.0</td>\n",
       "    </tr>\n",
       "    <tr>\n",
       "      <th>weight</th>\n",
       "      <td>1</td>\n",
       "      <td>0.000329</td>\n",
       "      <td>0.001012</td>\n",
       "      <td>NN</td>\n",
       "      <td>0.0</td>\n",
       "      <td>1.0</td>\n",
       "      <td>1.0</td>\n",
       "      <td>1.0</td>\n",
       "      <td>1.0</td>\n",
       "      <td>1.0</td>\n",
       "      <td>1.0</td>\n",
       "      <td>1.0</td>\n",
       "      <td>0.0</td>\n",
       "    </tr>\n",
       "    <tr>\n",
       "      <th>wonderful</th>\n",
       "      <td>2</td>\n",
       "      <td>0.000659</td>\n",
       "      <td>0.001497</td>\n",
       "      <td>JJ</td>\n",
       "      <td>0.0</td>\n",
       "      <td>0.0</td>\n",
       "      <td>0.0</td>\n",
       "      <td>0.0</td>\n",
       "      <td>1.0</td>\n",
       "      <td>0.0</td>\n",
       "      <td>1.0</td>\n",
       "      <td>1.0</td>\n",
       "      <td>1.0</td>\n",
       "    </tr>\n",
       "    <tr>\n",
       "      <th>words</th>\n",
       "      <td>2</td>\n",
       "      <td>0.000659</td>\n",
       "      <td>0.000391</td>\n",
       "      <td>NN</td>\n",
       "      <td>1.0</td>\n",
       "      <td>0.0</td>\n",
       "      <td>0.0</td>\n",
       "      <td>0.0</td>\n",
       "      <td>0.0</td>\n",
       "      <td>0.0</td>\n",
       "      <td>0.0</td>\n",
       "      <td>0.0</td>\n",
       "      <td>-1.0</td>\n",
       "    </tr>\n",
       "    <tr>\n",
       "      <th>youth</th>\n",
       "      <td>1</td>\n",
       "      <td>0.000329</td>\n",
       "      <td>0.000915</td>\n",
       "      <td>NN</td>\n",
       "      <td>1.0</td>\n",
       "      <td>1.0</td>\n",
       "      <td>0.0</td>\n",
       "      <td>1.0</td>\n",
       "      <td>1.0</td>\n",
       "      <td>0.0</td>\n",
       "      <td>1.0</td>\n",
       "      <td>0.0</td>\n",
       "      <td>1.0</td>\n",
       "    </tr>\n",
       "  </tbody>\n",
       "</table>\n",
       "<p>31187 rows × 13 columns</p>\n",
       "</div>"
      ],
      "text/plain": [
       "                              n        tf     tfidf max_pos  anger  \\\n",
       "book_id chap_id term_str                                             \n",
       "244     1       accurate      1  0.000359  0.001639      JJ    0.0   \n",
       "                agreeable     1  0.000359  0.002047      JJ    0.0   \n",
       "                alarming      1  0.000359  0.001952      VB    0.0   \n",
       "                annoy         1  0.000359  0.001803      VB    1.0   \n",
       "                astonishment  1  0.000359  0.000727      NN    0.0   \n",
       "...                          ..       ...       ...     ...    ...   \n",
       "70114   18      war           1  0.000329  0.000698      NN    0.0   \n",
       "                weight        1  0.000329  0.001012      NN    0.0   \n",
       "                wonderful     2  0.000659  0.001497      JJ    0.0   \n",
       "                words         2  0.000659  0.000391      NN    1.0   \n",
       "                youth         1  0.000329  0.000915      NN    1.0   \n",
       "\n",
       "                              anticipation  disgust  fear  joy  sadness  \\\n",
       "book_id chap_id term_str                                                  \n",
       "244     1       accurate               0.0      0.0   0.0  0.0      0.0   \n",
       "                agreeable              0.0      0.0   0.0  0.0      0.0   \n",
       "                alarming               0.0      0.0   1.0  0.0      0.0   \n",
       "                annoy                  0.0      1.0   0.0  0.0      0.0   \n",
       "                astonishment           0.0      0.0   0.0  1.0      0.0   \n",
       "...                                    ...      ...   ...  ...      ...   \n",
       "70114   18      war                    0.0      0.0   1.0  0.0      0.0   \n",
       "                weight                 1.0      1.0   1.0  1.0      1.0   \n",
       "                wonderful              0.0      0.0   0.0  1.0      0.0   \n",
       "                words                  0.0      0.0   0.0  0.0      0.0   \n",
       "                youth                  1.0      0.0   1.0  1.0      0.0   \n",
       "\n",
       "                              surprise  trust  sentiment  \n",
       "book_id chap_id term_str                                  \n",
       "244     1       accurate           0.0    1.0        1.0  \n",
       "                agreeable          0.0    1.0        1.0  \n",
       "                alarming           1.0    0.0       -1.0  \n",
       "                annoy              0.0    0.0       -1.0  \n",
       "                astonishment       1.0    0.0        1.0  \n",
       "...                                ...    ...        ...  \n",
       "70114   18      war                0.0    0.0       -1.0  \n",
       "                weight             1.0    1.0        0.0  \n",
       "                wonderful          1.0    1.0        1.0  \n",
       "                words              0.0    0.0       -1.0  \n",
       "                youth              1.0    0.0        1.0  \n",
       "\n",
       "[31187 rows x 13 columns]"
      ]
     },
     "execution_count": 53,
     "metadata": {},
     "output_type": "execute_result"
    }
   ],
   "source": [
    "B"
   ]
  },
  {
   "cell_type": "markdown",
   "id": "0de40f61",
   "metadata": {},
   "source": [
    "## Weight Emotions by TFIDF"
   ]
  },
  {
   "cell_type": "code",
   "execution_count": 54,
   "id": "c3224bd5",
   "metadata": {},
   "outputs": [],
   "source": [
    "for col in emo_cols:\n",
    "    B[col] = B[col] * B.tfidf"
   ]
  },
  {
   "cell_type": "code",
   "execution_count": 55,
   "id": "2f2aa482",
   "metadata": {},
   "outputs": [
    {
     "data": {
      "text/html": [
       "<div>\n",
       "<style scoped>\n",
       "    .dataframe tbody tr th:only-of-type {\n",
       "        vertical-align: middle;\n",
       "    }\n",
       "\n",
       "    .dataframe tbody tr th {\n",
       "        vertical-align: top;\n",
       "    }\n",
       "\n",
       "    .dataframe thead th {\n",
       "        text-align: right;\n",
       "    }\n",
       "</style>\n",
       "<table border=\"1\" class=\"dataframe\">\n",
       "  <thead>\n",
       "    <tr style=\"text-align: right;\">\n",
       "      <th></th>\n",
       "      <th></th>\n",
       "      <th></th>\n",
       "      <th>n</th>\n",
       "      <th>tf</th>\n",
       "      <th>tfidf</th>\n",
       "      <th>max_pos</th>\n",
       "      <th>anger</th>\n",
       "      <th>anticipation</th>\n",
       "      <th>disgust</th>\n",
       "      <th>fear</th>\n",
       "      <th>joy</th>\n",
       "      <th>sadness</th>\n",
       "      <th>surprise</th>\n",
       "      <th>trust</th>\n",
       "      <th>sentiment</th>\n",
       "    </tr>\n",
       "    <tr>\n",
       "      <th>book_id</th>\n",
       "      <th>chap_id</th>\n",
       "      <th>term_str</th>\n",
       "      <th></th>\n",
       "      <th></th>\n",
       "      <th></th>\n",
       "      <th></th>\n",
       "      <th></th>\n",
       "      <th></th>\n",
       "      <th></th>\n",
       "      <th></th>\n",
       "      <th></th>\n",
       "      <th></th>\n",
       "      <th></th>\n",
       "      <th></th>\n",
       "      <th></th>\n",
       "    </tr>\n",
       "  </thead>\n",
       "  <tbody>\n",
       "    <tr>\n",
       "      <th rowspan=\"5\" valign=\"top\">244</th>\n",
       "      <th rowspan=\"5\" valign=\"top\">1</th>\n",
       "      <th>accurate</th>\n",
       "      <td>1</td>\n",
       "      <td>0.000359</td>\n",
       "      <td>0.001639</td>\n",
       "      <td>JJ</td>\n",
       "      <td>0.000000</td>\n",
       "      <td>0.000000</td>\n",
       "      <td>0.000000</td>\n",
       "      <td>0.000000</td>\n",
       "      <td>0.000000</td>\n",
       "      <td>0.000000</td>\n",
       "      <td>0.000000</td>\n",
       "      <td>0.001639</td>\n",
       "      <td>0.001639</td>\n",
       "    </tr>\n",
       "    <tr>\n",
       "      <th>agreeable</th>\n",
       "      <td>1</td>\n",
       "      <td>0.000359</td>\n",
       "      <td>0.002047</td>\n",
       "      <td>JJ</td>\n",
       "      <td>0.000000</td>\n",
       "      <td>0.000000</td>\n",
       "      <td>0.000000</td>\n",
       "      <td>0.000000</td>\n",
       "      <td>0.000000</td>\n",
       "      <td>0.000000</td>\n",
       "      <td>0.000000</td>\n",
       "      <td>0.002047</td>\n",
       "      <td>0.002047</td>\n",
       "    </tr>\n",
       "    <tr>\n",
       "      <th>alarming</th>\n",
       "      <td>1</td>\n",
       "      <td>0.000359</td>\n",
       "      <td>0.001952</td>\n",
       "      <td>VB</td>\n",
       "      <td>0.000000</td>\n",
       "      <td>0.000000</td>\n",
       "      <td>0.000000</td>\n",
       "      <td>0.001952</td>\n",
       "      <td>0.000000</td>\n",
       "      <td>0.000000</td>\n",
       "      <td>0.001952</td>\n",
       "      <td>0.000000</td>\n",
       "      <td>-0.001952</td>\n",
       "    </tr>\n",
       "    <tr>\n",
       "      <th>annoy</th>\n",
       "      <td>1</td>\n",
       "      <td>0.000359</td>\n",
       "      <td>0.001803</td>\n",
       "      <td>VB</td>\n",
       "      <td>0.001803</td>\n",
       "      <td>0.000000</td>\n",
       "      <td>0.001803</td>\n",
       "      <td>0.000000</td>\n",
       "      <td>0.000000</td>\n",
       "      <td>0.000000</td>\n",
       "      <td>0.000000</td>\n",
       "      <td>0.000000</td>\n",
       "      <td>-0.001803</td>\n",
       "    </tr>\n",
       "    <tr>\n",
       "      <th>astonishment</th>\n",
       "      <td>1</td>\n",
       "      <td>0.000359</td>\n",
       "      <td>0.000727</td>\n",
       "      <td>NN</td>\n",
       "      <td>0.000000</td>\n",
       "      <td>0.000000</td>\n",
       "      <td>0.000000</td>\n",
       "      <td>0.000000</td>\n",
       "      <td>0.000727</td>\n",
       "      <td>0.000000</td>\n",
       "      <td>0.000727</td>\n",
       "      <td>0.000000</td>\n",
       "      <td>0.000727</td>\n",
       "    </tr>\n",
       "    <tr>\n",
       "      <th>...</th>\n",
       "      <th>...</th>\n",
       "      <th>...</th>\n",
       "      <td>...</td>\n",
       "      <td>...</td>\n",
       "      <td>...</td>\n",
       "      <td>...</td>\n",
       "      <td>...</td>\n",
       "      <td>...</td>\n",
       "      <td>...</td>\n",
       "      <td>...</td>\n",
       "      <td>...</td>\n",
       "      <td>...</td>\n",
       "      <td>...</td>\n",
       "      <td>...</td>\n",
       "      <td>...</td>\n",
       "    </tr>\n",
       "    <tr>\n",
       "      <th rowspan=\"5\" valign=\"top\">70114</th>\n",
       "      <th rowspan=\"5\" valign=\"top\">18</th>\n",
       "      <th>war</th>\n",
       "      <td>1</td>\n",
       "      <td>0.000329</td>\n",
       "      <td>0.000698</td>\n",
       "      <td>NN</td>\n",
       "      <td>0.000000</td>\n",
       "      <td>0.000000</td>\n",
       "      <td>0.000000</td>\n",
       "      <td>0.000698</td>\n",
       "      <td>0.000000</td>\n",
       "      <td>0.000000</td>\n",
       "      <td>0.000000</td>\n",
       "      <td>0.000000</td>\n",
       "      <td>-0.000698</td>\n",
       "    </tr>\n",
       "    <tr>\n",
       "      <th>weight</th>\n",
       "      <td>1</td>\n",
       "      <td>0.000329</td>\n",
       "      <td>0.001012</td>\n",
       "      <td>NN</td>\n",
       "      <td>0.000000</td>\n",
       "      <td>0.001012</td>\n",
       "      <td>0.001012</td>\n",
       "      <td>0.001012</td>\n",
       "      <td>0.001012</td>\n",
       "      <td>0.001012</td>\n",
       "      <td>0.001012</td>\n",
       "      <td>0.001012</td>\n",
       "      <td>0.000000</td>\n",
       "    </tr>\n",
       "    <tr>\n",
       "      <th>wonderful</th>\n",
       "      <td>2</td>\n",
       "      <td>0.000659</td>\n",
       "      <td>0.001497</td>\n",
       "      <td>JJ</td>\n",
       "      <td>0.000000</td>\n",
       "      <td>0.000000</td>\n",
       "      <td>0.000000</td>\n",
       "      <td>0.000000</td>\n",
       "      <td>0.001497</td>\n",
       "      <td>0.000000</td>\n",
       "      <td>0.001497</td>\n",
       "      <td>0.001497</td>\n",
       "      <td>0.001497</td>\n",
       "    </tr>\n",
       "    <tr>\n",
       "      <th>words</th>\n",
       "      <td>2</td>\n",
       "      <td>0.000659</td>\n",
       "      <td>0.000391</td>\n",
       "      <td>NN</td>\n",
       "      <td>0.000391</td>\n",
       "      <td>0.000000</td>\n",
       "      <td>0.000000</td>\n",
       "      <td>0.000000</td>\n",
       "      <td>0.000000</td>\n",
       "      <td>0.000000</td>\n",
       "      <td>0.000000</td>\n",
       "      <td>0.000000</td>\n",
       "      <td>-0.000391</td>\n",
       "    </tr>\n",
       "    <tr>\n",
       "      <th>youth</th>\n",
       "      <td>1</td>\n",
       "      <td>0.000329</td>\n",
       "      <td>0.000915</td>\n",
       "      <td>NN</td>\n",
       "      <td>0.000915</td>\n",
       "      <td>0.000915</td>\n",
       "      <td>0.000000</td>\n",
       "      <td>0.000915</td>\n",
       "      <td>0.000915</td>\n",
       "      <td>0.000000</td>\n",
       "      <td>0.000915</td>\n",
       "      <td>0.000000</td>\n",
       "      <td>0.000915</td>\n",
       "    </tr>\n",
       "  </tbody>\n",
       "</table>\n",
       "<p>31187 rows × 13 columns</p>\n",
       "</div>"
      ],
      "text/plain": [
       "                              n        tf     tfidf max_pos     anger  \\\n",
       "book_id chap_id term_str                                                \n",
       "244     1       accurate      1  0.000359  0.001639      JJ  0.000000   \n",
       "                agreeable     1  0.000359  0.002047      JJ  0.000000   \n",
       "                alarming      1  0.000359  0.001952      VB  0.000000   \n",
       "                annoy         1  0.000359  0.001803      VB  0.001803   \n",
       "                astonishment  1  0.000359  0.000727      NN  0.000000   \n",
       "...                          ..       ...       ...     ...       ...   \n",
       "70114   18      war           1  0.000329  0.000698      NN  0.000000   \n",
       "                weight        1  0.000329  0.001012      NN  0.000000   \n",
       "                wonderful     2  0.000659  0.001497      JJ  0.000000   \n",
       "                words         2  0.000659  0.000391      NN  0.000391   \n",
       "                youth         1  0.000329  0.000915      NN  0.000915   \n",
       "\n",
       "                              anticipation   disgust      fear       joy  \\\n",
       "book_id chap_id term_str                                                   \n",
       "244     1       accurate          0.000000  0.000000  0.000000  0.000000   \n",
       "                agreeable         0.000000  0.000000  0.000000  0.000000   \n",
       "                alarming          0.000000  0.000000  0.001952  0.000000   \n",
       "                annoy             0.000000  0.001803  0.000000  0.000000   \n",
       "                astonishment      0.000000  0.000000  0.000000  0.000727   \n",
       "...                                    ...       ...       ...       ...   \n",
       "70114   18      war               0.000000  0.000000  0.000698  0.000000   \n",
       "                weight            0.001012  0.001012  0.001012  0.001012   \n",
       "                wonderful         0.000000  0.000000  0.000000  0.001497   \n",
       "                words             0.000000  0.000000  0.000000  0.000000   \n",
       "                youth             0.000915  0.000000  0.000915  0.000915   \n",
       "\n",
       "                               sadness  surprise     trust  sentiment  \n",
       "book_id chap_id term_str                                               \n",
       "244     1       accurate      0.000000  0.000000  0.001639   0.001639  \n",
       "                agreeable     0.000000  0.000000  0.002047   0.002047  \n",
       "                alarming      0.000000  0.001952  0.000000  -0.001952  \n",
       "                annoy         0.000000  0.000000  0.000000  -0.001803  \n",
       "                astonishment  0.000000  0.000727  0.000000   0.000727  \n",
       "...                                ...       ...       ...        ...  \n",
       "70114   18      war           0.000000  0.000000  0.000000  -0.000698  \n",
       "                weight        0.001012  0.001012  0.001012   0.000000  \n",
       "                wonderful     0.000000  0.001497  0.001497   0.001497  \n",
       "                words         0.000000  0.000000  0.000000  -0.000391  \n",
       "                youth         0.000000  0.000915  0.000000   0.000915  \n",
       "\n",
       "[31187 rows x 13 columns]"
      ]
     },
     "execution_count": 55,
     "metadata": {},
     "output_type": "execute_result"
    }
   ],
   "source": [
    "B"
   ]
  },
  {
   "cell_type": "code",
   "execution_count": 56,
   "id": "97b463ce",
   "metadata": {},
   "outputs": [],
   "source": [
    "B.to_csv('B.csv')"
   ]
  },
  {
   "cell_type": "markdown",
   "id": "6f3ded9a",
   "metadata": {},
   "source": [
    "## Emotions by Book and Chapter"
   ]
  },
  {
   "cell_type": "code",
   "execution_count": 57,
   "id": "976b4ed7",
   "metadata": {},
   "outputs": [],
   "source": [
    "EMO_BOOKS = B.groupby(['book_id'])[emo_cols].mean()\n",
    "EMO_CHAPS = B.groupby(['book_id','chap_id'])[emo_cols].mean()"
   ]
  },
  {
   "cell_type": "code",
   "execution_count": 58,
   "id": "fbab3175",
   "metadata": {},
   "outputs": [],
   "source": [
    "EMO_BOOKS.index = LIB.title_short"
   ]
  },
  {
   "cell_type": "code",
   "execution_count": 59,
   "id": "968d88bc",
   "metadata": {},
   "outputs": [
    {
     "data": {
      "text/html": [
       "<div>\n",
       "<style scoped>\n",
       "    .dataframe tbody tr th:only-of-type {\n",
       "        vertical-align: middle;\n",
       "    }\n",
       "\n",
       "    .dataframe tbody tr th {\n",
       "        vertical-align: top;\n",
       "    }\n",
       "\n",
       "    .dataframe thead th {\n",
       "        text-align: right;\n",
       "    }\n",
       "</style>\n",
       "<table border=\"1\" class=\"dataframe\">\n",
       "  <thead>\n",
       "    <tr style=\"text-align: right;\">\n",
       "      <th></th>\n",
       "      <th>anger</th>\n",
       "      <th>anticipation</th>\n",
       "      <th>disgust</th>\n",
       "      <th>fear</th>\n",
       "      <th>joy</th>\n",
       "      <th>sadness</th>\n",
       "      <th>surprise</th>\n",
       "      <th>trust</th>\n",
       "      <th>sentiment</th>\n",
       "    </tr>\n",
       "    <tr>\n",
       "      <th>title_short</th>\n",
       "      <th></th>\n",
       "      <th></th>\n",
       "      <th></th>\n",
       "      <th></th>\n",
       "      <th></th>\n",
       "      <th></th>\n",
       "      <th></th>\n",
       "      <th></th>\n",
       "      <th></th>\n",
       "    </tr>\n",
       "  </thead>\n",
       "  <tbody>\n",
       "    <tr>\n",
       "      <th>Arthur Conan Doyle 244: A Study in Scarlet</th>\n",
       "      <td>0.000394</td>\n",
       "      <td>0.000333</td>\n",
       "      <td>0.000289</td>\n",
       "      <td>0.000474</td>\n",
       "      <td>0.000315</td>\n",
       "      <td>0.000419</td>\n",
       "      <td>0.000216</td>\n",
       "      <td>0.000401</td>\n",
       "      <td>-0.000184</td>\n",
       "    </tr>\n",
       "    <tr>\n",
       "      <th>Arthur Conan Doyle 834: The Memoirs of Sherlock H</th>\n",
       "      <td>0.000161</td>\n",
       "      <td>0.000131</td>\n",
       "      <td>0.000116</td>\n",
       "      <td>0.000209</td>\n",
       "      <td>0.000125</td>\n",
       "      <td>0.000166</td>\n",
       "      <td>0.000085</td>\n",
       "      <td>0.000198</td>\n",
       "      <td>-0.000050</td>\n",
       "    </tr>\n",
       "    <tr>\n",
       "      <th>Agatha Christie 863: The Mysterious Affair at</th>\n",
       "      <td>0.000284</td>\n",
       "      <td>0.000193</td>\n",
       "      <td>0.000279</td>\n",
       "      <td>0.000344</td>\n",
       "      <td>0.000210</td>\n",
       "      <td>0.000301</td>\n",
       "      <td>0.000130</td>\n",
       "      <td>0.000276</td>\n",
       "      <td>-0.000228</td>\n",
       "    </tr>\n",
       "    <tr>\n",
       "      <th>Agatha Christie 1155: The Secret Adversary</th>\n",
       "      <td>0.000420</td>\n",
       "      <td>0.000350</td>\n",
       "      <td>0.000295</td>\n",
       "      <td>0.000513</td>\n",
       "      <td>0.000340</td>\n",
       "      <td>0.000403</td>\n",
       "      <td>0.000244</td>\n",
       "      <td>0.000502</td>\n",
       "      <td>-0.000137</td>\n",
       "    </tr>\n",
       "    <tr>\n",
       "      <th>Arthur Conan Doyle 1661: The Adventures of Sherloc</th>\n",
       "      <td>0.000147</td>\n",
       "      <td>0.000149</td>\n",
       "      <td>0.000113</td>\n",
       "      <td>0.000190</td>\n",
       "      <td>0.000147</td>\n",
       "      <td>0.000166</td>\n",
       "      <td>0.000086</td>\n",
       "      <td>0.000215</td>\n",
       "      <td>-0.000030</td>\n",
       "    </tr>\n",
       "    <tr>\n",
       "      <th>Arthur Conan Doyle 2097: The Sign of the Four</th>\n",
       "      <td>0.000289</td>\n",
       "      <td>0.000353</td>\n",
       "      <td>0.000229</td>\n",
       "      <td>0.000361</td>\n",
       "      <td>0.000314</td>\n",
       "      <td>0.000311</td>\n",
       "      <td>0.000163</td>\n",
       "      <td>0.000407</td>\n",
       "      <td>-0.000060</td>\n",
       "    </tr>\n",
       "    <tr>\n",
       "      <th>Arthur Conan Doyle 3070: The Hound of the Baskervi</th>\n",
       "      <td>0.000297</td>\n",
       "      <td>0.000227</td>\n",
       "      <td>0.000224</td>\n",
       "      <td>0.000388</td>\n",
       "      <td>0.000216</td>\n",
       "      <td>0.000365</td>\n",
       "      <td>0.000145</td>\n",
       "      <td>0.000343</td>\n",
       "      <td>-0.000150</td>\n",
       "    </tr>\n",
       "    <tr>\n",
       "      <th>Arthur Conan Doyle 3289: The Valley of Fear</th>\n",
       "      <td>0.000317</td>\n",
       "      <td>0.000221</td>\n",
       "      <td>0.000211</td>\n",
       "      <td>0.000400</td>\n",
       "      <td>0.000244</td>\n",
       "      <td>0.000290</td>\n",
       "      <td>0.000154</td>\n",
       "      <td>0.000362</td>\n",
       "      <td>-0.000082</td>\n",
       "    </tr>\n",
       "    <tr>\n",
       "      <th>Agatha Christie 58866: The Murder on the Links</th>\n",
       "      <td>0.000490</td>\n",
       "      <td>0.000372</td>\n",
       "      <td>0.000325</td>\n",
       "      <td>0.000586</td>\n",
       "      <td>0.000381</td>\n",
       "      <td>0.000503</td>\n",
       "      <td>0.000237</td>\n",
       "      <td>0.000483</td>\n",
       "      <td>-0.000258</td>\n",
       "    </tr>\n",
       "    <tr>\n",
       "      <th>Agatha Christie 61168: The Man in the Brown Suit</th>\n",
       "      <td>0.000583</td>\n",
       "      <td>0.000448</td>\n",
       "      <td>0.000378</td>\n",
       "      <td>0.000636</td>\n",
       "      <td>0.000465</td>\n",
       "      <td>0.000587</td>\n",
       "      <td>0.000281</td>\n",
       "      <td>0.000653</td>\n",
       "      <td>-0.000157</td>\n",
       "    </tr>\n",
       "    <tr>\n",
       "      <th>Agatha Christie 65238: The Secret of Chimneys</th>\n",
       "      <td>0.000524</td>\n",
       "      <td>0.000377</td>\n",
       "      <td>0.000326</td>\n",
       "      <td>0.000449</td>\n",
       "      <td>0.000464</td>\n",
       "      <td>0.000378</td>\n",
       "      <td>0.000252</td>\n",
       "      <td>0.000614</td>\n",
       "      <td>-0.000026</td>\n",
       "    </tr>\n",
       "    <tr>\n",
       "      <th>Agatha Christie 69087: The Murder of Roger Ackro</th>\n",
       "      <td>0.000388</td>\n",
       "      <td>0.000338</td>\n",
       "      <td>0.000270</td>\n",
       "      <td>0.000462</td>\n",
       "      <td>0.000331</td>\n",
       "      <td>0.000410</td>\n",
       "      <td>0.000228</td>\n",
       "      <td>0.000495</td>\n",
       "      <td>-0.000082</td>\n",
       "    </tr>\n",
       "    <tr>\n",
       "      <th>Agatha Christie 70114: The Big Four</th>\n",
       "      <td>0.000326</td>\n",
       "      <td>0.000299</td>\n",
       "      <td>0.000252</td>\n",
       "      <td>0.000456</td>\n",
       "      <td>0.000301</td>\n",
       "      <td>0.000365</td>\n",
       "      <td>0.000208</td>\n",
       "      <td>0.000385</td>\n",
       "      <td>-0.000127</td>\n",
       "    </tr>\n",
       "  </tbody>\n",
       "</table>\n",
       "</div>"
      ],
      "text/plain": [
       "                                                       anger  anticipation  \\\n",
       "title_short                                                                  \n",
       "Arthur Conan Doyle 244: A Study in Scarlet          0.000394      0.000333   \n",
       "Arthur Conan Doyle 834: The Memoirs of Sherlock H   0.000161      0.000131   \n",
       "Agatha Christie 863: The Mysterious Affair at       0.000284      0.000193   \n",
       "Agatha Christie 1155: The Secret Adversary          0.000420      0.000350   \n",
       "Arthur Conan Doyle 1661: The Adventures of Sherloc  0.000147      0.000149   \n",
       "Arthur Conan Doyle 2097: The Sign of the Four       0.000289      0.000353   \n",
       "Arthur Conan Doyle 3070: The Hound of the Baskervi  0.000297      0.000227   \n",
       "Arthur Conan Doyle 3289: The Valley of Fear         0.000317      0.000221   \n",
       "Agatha Christie 58866: The Murder on the Links      0.000490      0.000372   \n",
       "Agatha Christie 61168: The Man in the Brown Suit    0.000583      0.000448   \n",
       "Agatha Christie 65238: The Secret of Chimneys       0.000524      0.000377   \n",
       "Agatha Christie 69087: The Murder of Roger Ackro    0.000388      0.000338   \n",
       "Agatha Christie 70114: The Big Four                 0.000326      0.000299   \n",
       "\n",
       "                                                     disgust      fear  \\\n",
       "title_short                                                              \n",
       "Arthur Conan Doyle 244: A Study in Scarlet          0.000289  0.000474   \n",
       "Arthur Conan Doyle 834: The Memoirs of Sherlock H   0.000116  0.000209   \n",
       "Agatha Christie 863: The Mysterious Affair at       0.000279  0.000344   \n",
       "Agatha Christie 1155: The Secret Adversary          0.000295  0.000513   \n",
       "Arthur Conan Doyle 1661: The Adventures of Sherloc  0.000113  0.000190   \n",
       "Arthur Conan Doyle 2097: The Sign of the Four       0.000229  0.000361   \n",
       "Arthur Conan Doyle 3070: The Hound of the Baskervi  0.000224  0.000388   \n",
       "Arthur Conan Doyle 3289: The Valley of Fear         0.000211  0.000400   \n",
       "Agatha Christie 58866: The Murder on the Links      0.000325  0.000586   \n",
       "Agatha Christie 61168: The Man in the Brown Suit    0.000378  0.000636   \n",
       "Agatha Christie 65238: The Secret of Chimneys       0.000326  0.000449   \n",
       "Agatha Christie 69087: The Murder of Roger Ackro    0.000270  0.000462   \n",
       "Agatha Christie 70114: The Big Four                 0.000252  0.000456   \n",
       "\n",
       "                                                         joy   sadness  \\\n",
       "title_short                                                              \n",
       "Arthur Conan Doyle 244: A Study in Scarlet          0.000315  0.000419   \n",
       "Arthur Conan Doyle 834: The Memoirs of Sherlock H   0.000125  0.000166   \n",
       "Agatha Christie 863: The Mysterious Affair at       0.000210  0.000301   \n",
       "Agatha Christie 1155: The Secret Adversary          0.000340  0.000403   \n",
       "Arthur Conan Doyle 1661: The Adventures of Sherloc  0.000147  0.000166   \n",
       "Arthur Conan Doyle 2097: The Sign of the Four       0.000314  0.000311   \n",
       "Arthur Conan Doyle 3070: The Hound of the Baskervi  0.000216  0.000365   \n",
       "Arthur Conan Doyle 3289: The Valley of Fear         0.000244  0.000290   \n",
       "Agatha Christie 58866: The Murder on the Links      0.000381  0.000503   \n",
       "Agatha Christie 61168: The Man in the Brown Suit    0.000465  0.000587   \n",
       "Agatha Christie 65238: The Secret of Chimneys       0.000464  0.000378   \n",
       "Agatha Christie 69087: The Murder of Roger Ackro    0.000331  0.000410   \n",
       "Agatha Christie 70114: The Big Four                 0.000301  0.000365   \n",
       "\n",
       "                                                    surprise     trust  \\\n",
       "title_short                                                              \n",
       "Arthur Conan Doyle 244: A Study in Scarlet          0.000216  0.000401   \n",
       "Arthur Conan Doyle 834: The Memoirs of Sherlock H   0.000085  0.000198   \n",
       "Agatha Christie 863: The Mysterious Affair at       0.000130  0.000276   \n",
       "Agatha Christie 1155: The Secret Adversary          0.000244  0.000502   \n",
       "Arthur Conan Doyle 1661: The Adventures of Sherloc  0.000086  0.000215   \n",
       "Arthur Conan Doyle 2097: The Sign of the Four       0.000163  0.000407   \n",
       "Arthur Conan Doyle 3070: The Hound of the Baskervi  0.000145  0.000343   \n",
       "Arthur Conan Doyle 3289: The Valley of Fear         0.000154  0.000362   \n",
       "Agatha Christie 58866: The Murder on the Links      0.000237  0.000483   \n",
       "Agatha Christie 61168: The Man in the Brown Suit    0.000281  0.000653   \n",
       "Agatha Christie 65238: The Secret of Chimneys       0.000252  0.000614   \n",
       "Agatha Christie 69087: The Murder of Roger Ackro    0.000228  0.000495   \n",
       "Agatha Christie 70114: The Big Four                 0.000208  0.000385   \n",
       "\n",
       "                                                    sentiment  \n",
       "title_short                                                    \n",
       "Arthur Conan Doyle 244: A Study in Scarlet          -0.000184  \n",
       "Arthur Conan Doyle 834: The Memoirs of Sherlock H   -0.000050  \n",
       "Agatha Christie 863: The Mysterious Affair at       -0.000228  \n",
       "Agatha Christie 1155: The Secret Adversary          -0.000137  \n",
       "Arthur Conan Doyle 1661: The Adventures of Sherloc  -0.000030  \n",
       "Arthur Conan Doyle 2097: The Sign of the Four       -0.000060  \n",
       "Arthur Conan Doyle 3070: The Hound of the Baskervi  -0.000150  \n",
       "Arthur Conan Doyle 3289: The Valley of Fear         -0.000082  \n",
       "Agatha Christie 58866: The Murder on the Links      -0.000258  \n",
       "Agatha Christie 61168: The Man in the Brown Suit    -0.000157  \n",
       "Agatha Christie 65238: The Secret of Chimneys       -0.000026  \n",
       "Agatha Christie 69087: The Murder of Roger Ackro    -0.000082  \n",
       "Agatha Christie 70114: The Big Four                 -0.000127  "
      ]
     },
     "execution_count": 59,
     "metadata": {},
     "output_type": "execute_result"
    }
   ],
   "source": [
    "EMO_BOOKS"
   ]
  },
  {
   "cell_type": "code",
   "execution_count": 60,
   "id": "7b651822",
   "metadata": {},
   "outputs": [],
   "source": [
    "EMO_BOOKS.to_csv('EMO_BOOKS.csv')"
   ]
  },
  {
   "cell_type": "code",
   "execution_count": 61,
   "id": "7c30b643",
   "metadata": {},
   "outputs": [
    {
     "data": {
      "text/html": [
       "<div>\n",
       "<style scoped>\n",
       "    .dataframe tbody tr th:only-of-type {\n",
       "        vertical-align: middle;\n",
       "    }\n",
       "\n",
       "    .dataframe tbody tr th {\n",
       "        vertical-align: top;\n",
       "    }\n",
       "\n",
       "    .dataframe thead th {\n",
       "        text-align: right;\n",
       "    }\n",
       "</style>\n",
       "<table border=\"1\" class=\"dataframe\">\n",
       "  <thead>\n",
       "    <tr style=\"text-align: right;\">\n",
       "      <th></th>\n",
       "      <th></th>\n",
       "      <th>anger</th>\n",
       "      <th>anticipation</th>\n",
       "      <th>disgust</th>\n",
       "      <th>fear</th>\n",
       "      <th>joy</th>\n",
       "      <th>sadness</th>\n",
       "      <th>surprise</th>\n",
       "      <th>trust</th>\n",
       "      <th>sentiment</th>\n",
       "    </tr>\n",
       "    <tr>\n",
       "      <th>book_id</th>\n",
       "      <th>chap_id</th>\n",
       "      <th></th>\n",
       "      <th></th>\n",
       "      <th></th>\n",
       "      <th></th>\n",
       "      <th></th>\n",
       "      <th></th>\n",
       "      <th></th>\n",
       "      <th></th>\n",
       "      <th></th>\n",
       "    </tr>\n",
       "  </thead>\n",
       "  <tbody>\n",
       "    <tr>\n",
       "      <th rowspan=\"5\" valign=\"top\">244</th>\n",
       "      <th>1</th>\n",
       "      <td>0.000265</td>\n",
       "      <td>0.000340</td>\n",
       "      <td>0.000173</td>\n",
       "      <td>0.000429</td>\n",
       "      <td>0.000402</td>\n",
       "      <td>0.000440</td>\n",
       "      <td>0.000283</td>\n",
       "      <td>0.000527</td>\n",
       "      <td>0.000157</td>\n",
       "    </tr>\n",
       "    <tr>\n",
       "      <th>2</th>\n",
       "      <td>0.000202</td>\n",
       "      <td>0.000224</td>\n",
       "      <td>0.000182</td>\n",
       "      <td>0.000276</td>\n",
       "      <td>0.000324</td>\n",
       "      <td>0.000291</td>\n",
       "      <td>0.000224</td>\n",
       "      <td>0.000380</td>\n",
       "      <td>0.000065</td>\n",
       "    </tr>\n",
       "    <tr>\n",
       "      <th>3</th>\n",
       "      <td>0.000265</td>\n",
       "      <td>0.000217</td>\n",
       "      <td>0.000270</td>\n",
       "      <td>0.000351</td>\n",
       "      <td>0.000225</td>\n",
       "      <td>0.000336</td>\n",
       "      <td>0.000214</td>\n",
       "      <td>0.000296</td>\n",
       "      <td>-0.000176</td>\n",
       "    </tr>\n",
       "    <tr>\n",
       "      <th>4</th>\n",
       "      <td>0.000350</td>\n",
       "      <td>0.000293</td>\n",
       "      <td>0.000314</td>\n",
       "      <td>0.000438</td>\n",
       "      <td>0.000318</td>\n",
       "      <td>0.000383</td>\n",
       "      <td>0.000229</td>\n",
       "      <td>0.000273</td>\n",
       "      <td>-0.000178</td>\n",
       "    </tr>\n",
       "    <tr>\n",
       "      <th>5</th>\n",
       "      <td>0.000434</td>\n",
       "      <td>0.000287</td>\n",
       "      <td>0.000247</td>\n",
       "      <td>0.000362</td>\n",
       "      <td>0.000375</td>\n",
       "      <td>0.000456</td>\n",
       "      <td>0.000203</td>\n",
       "      <td>0.000386</td>\n",
       "      <td>-0.000183</td>\n",
       "    </tr>\n",
       "    <tr>\n",
       "      <th>...</th>\n",
       "      <th>...</th>\n",
       "      <td>...</td>\n",
       "      <td>...</td>\n",
       "      <td>...</td>\n",
       "      <td>...</td>\n",
       "      <td>...</td>\n",
       "      <td>...</td>\n",
       "      <td>...</td>\n",
       "      <td>...</td>\n",
       "      <td>...</td>\n",
       "    </tr>\n",
       "    <tr>\n",
       "      <th rowspan=\"5\" valign=\"top\">70114</th>\n",
       "      <th>14</th>\n",
       "      <td>0.000257</td>\n",
       "      <td>0.000233</td>\n",
       "      <td>0.000220</td>\n",
       "      <td>0.000358</td>\n",
       "      <td>0.000223</td>\n",
       "      <td>0.000259</td>\n",
       "      <td>0.000194</td>\n",
       "      <td>0.000315</td>\n",
       "      <td>0.000044</td>\n",
       "    </tr>\n",
       "    <tr>\n",
       "      <th>15</th>\n",
       "      <td>0.000187</td>\n",
       "      <td>0.000205</td>\n",
       "      <td>0.000154</td>\n",
       "      <td>0.000370</td>\n",
       "      <td>0.000224</td>\n",
       "      <td>0.000317</td>\n",
       "      <td>0.000185</td>\n",
       "      <td>0.000324</td>\n",
       "      <td>-0.000072</td>\n",
       "    </tr>\n",
       "    <tr>\n",
       "      <th>16</th>\n",
       "      <td>0.000232</td>\n",
       "      <td>0.000211</td>\n",
       "      <td>0.000148</td>\n",
       "      <td>0.000405</td>\n",
       "      <td>0.000207</td>\n",
       "      <td>0.000301</td>\n",
       "      <td>0.000218</td>\n",
       "      <td>0.000361</td>\n",
       "      <td>-0.000197</td>\n",
       "    </tr>\n",
       "    <tr>\n",
       "      <th>17</th>\n",
       "      <td>0.000237</td>\n",
       "      <td>0.000288</td>\n",
       "      <td>0.000162</td>\n",
       "      <td>0.000333</td>\n",
       "      <td>0.000368</td>\n",
       "      <td>0.000323</td>\n",
       "      <td>0.000252</td>\n",
       "      <td>0.000420</td>\n",
       "      <td>0.000023</td>\n",
       "    </tr>\n",
       "    <tr>\n",
       "      <th>18</th>\n",
       "      <td>0.000361</td>\n",
       "      <td>0.000450</td>\n",
       "      <td>0.000254</td>\n",
       "      <td>0.000470</td>\n",
       "      <td>0.000389</td>\n",
       "      <td>0.000392</td>\n",
       "      <td>0.000337</td>\n",
       "      <td>0.000468</td>\n",
       "      <td>-0.000016</td>\n",
       "    </tr>\n",
       "  </tbody>\n",
       "</table>\n",
       "<p>261 rows × 9 columns</p>\n",
       "</div>"
      ],
      "text/plain": [
       "                    anger  anticipation   disgust      fear       joy  \\\n",
       "book_id chap_id                                                         \n",
       "244     1        0.000265      0.000340  0.000173  0.000429  0.000402   \n",
       "        2        0.000202      0.000224  0.000182  0.000276  0.000324   \n",
       "        3        0.000265      0.000217  0.000270  0.000351  0.000225   \n",
       "        4        0.000350      0.000293  0.000314  0.000438  0.000318   \n",
       "        5        0.000434      0.000287  0.000247  0.000362  0.000375   \n",
       "...                   ...           ...       ...       ...       ...   \n",
       "70114   14       0.000257      0.000233  0.000220  0.000358  0.000223   \n",
       "        15       0.000187      0.000205  0.000154  0.000370  0.000224   \n",
       "        16       0.000232      0.000211  0.000148  0.000405  0.000207   \n",
       "        17       0.000237      0.000288  0.000162  0.000333  0.000368   \n",
       "        18       0.000361      0.000450  0.000254  0.000470  0.000389   \n",
       "\n",
       "                  sadness  surprise     trust  sentiment  \n",
       "book_id chap_id                                           \n",
       "244     1        0.000440  0.000283  0.000527   0.000157  \n",
       "        2        0.000291  0.000224  0.000380   0.000065  \n",
       "        3        0.000336  0.000214  0.000296  -0.000176  \n",
       "        4        0.000383  0.000229  0.000273  -0.000178  \n",
       "        5        0.000456  0.000203  0.000386  -0.000183  \n",
       "...                   ...       ...       ...        ...  \n",
       "70114   14       0.000259  0.000194  0.000315   0.000044  \n",
       "        15       0.000317  0.000185  0.000324  -0.000072  \n",
       "        16       0.000301  0.000218  0.000361  -0.000197  \n",
       "        17       0.000323  0.000252  0.000420   0.000023  \n",
       "        18       0.000392  0.000337  0.000468  -0.000016  \n",
       "\n",
       "[261 rows x 9 columns]"
      ]
     },
     "execution_count": 61,
     "metadata": {},
     "output_type": "execute_result"
    }
   ],
   "source": [
    "EMO_CHAPS"
   ]
  },
  {
   "cell_type": "code",
   "execution_count": 80,
   "id": "d05d3d66",
   "metadata": {},
   "outputs": [],
   "source": [
    "EMO_BOOKS.to_csv('EMO_BOOKS.csv')\n",
    "EMO_CHAPS.to_csv('EMO_CHAPS.csv')"
   ]
  },
  {
   "cell_type": "markdown",
   "id": "4e5d9d07",
   "metadata": {},
   "source": [
    "## Combine VOCAB and SALEX with CORPUS"
   ]
  },
  {
   "cell_type": "code",
   "execution_count": 63,
   "id": "09e80db9",
   "metadata": {},
   "outputs": [],
   "source": [
    "T = CORPUS.join(V, on='term_str').fillna(0)"
   ]
  },
  {
   "cell_type": "code",
   "execution_count": 64,
   "id": "41dad12d",
   "metadata": {},
   "outputs": [
    {
     "data": {
      "text/html": [
       "<div>\n",
       "<style scoped>\n",
       "    .dataframe tbody tr th:only-of-type {\n",
       "        vertical-align: middle;\n",
       "    }\n",
       "\n",
       "    .dataframe tbody tr th {\n",
       "        vertical-align: top;\n",
       "    }\n",
       "\n",
       "    .dataframe thead th {\n",
       "        text-align: right;\n",
       "    }\n",
       "</style>\n",
       "<table border=\"1\" class=\"dataframe\">\n",
       "  <thead>\n",
       "    <tr style=\"text-align: right;\">\n",
       "      <th></th>\n",
       "      <th></th>\n",
       "      <th></th>\n",
       "      <th></th>\n",
       "      <th></th>\n",
       "      <th>pos_tuple</th>\n",
       "      <th>pos</th>\n",
       "      <th>token_str</th>\n",
       "      <th>term_str</th>\n",
       "      <th>n</th>\n",
       "      <th>n_chars</th>\n",
       "      <th>p</th>\n",
       "      <th>i</th>\n",
       "      <th>max_pos</th>\n",
       "      <th>df</th>\n",
       "      <th>...</th>\n",
       "      <th>anticipation</th>\n",
       "      <th>disgust</th>\n",
       "      <th>fear</th>\n",
       "      <th>joy</th>\n",
       "      <th>negative</th>\n",
       "      <th>positive</th>\n",
       "      <th>sadness</th>\n",
       "      <th>surprise</th>\n",
       "      <th>trust</th>\n",
       "      <th>sentiment</th>\n",
       "    </tr>\n",
       "    <tr>\n",
       "      <th>book_id</th>\n",
       "      <th>chap_id</th>\n",
       "      <th>para_num</th>\n",
       "      <th>sent_num</th>\n",
       "      <th>token_num</th>\n",
       "      <th></th>\n",
       "      <th></th>\n",
       "      <th></th>\n",
       "      <th></th>\n",
       "      <th></th>\n",
       "      <th></th>\n",
       "      <th></th>\n",
       "      <th></th>\n",
       "      <th></th>\n",
       "      <th></th>\n",
       "      <th></th>\n",
       "      <th></th>\n",
       "      <th></th>\n",
       "      <th></th>\n",
       "      <th></th>\n",
       "      <th></th>\n",
       "      <th></th>\n",
       "      <th></th>\n",
       "      <th></th>\n",
       "      <th></th>\n",
       "      <th></th>\n",
       "    </tr>\n",
       "  </thead>\n",
       "  <tbody>\n",
       "    <tr>\n",
       "      <th rowspan=\"5\" valign=\"top\">244</th>\n",
       "      <th rowspan=\"5\" valign=\"top\">1</th>\n",
       "      <th rowspan=\"3\" valign=\"top\">0</th>\n",
       "      <th rowspan=\"3\" valign=\"top\">0</th>\n",
       "      <th>0</th>\n",
       "      <td>('MR.', 'NNP')</td>\n",
       "      <td>NNP</td>\n",
       "      <td>MR.</td>\n",
       "      <td>mr</td>\n",
       "      <td>0.0</td>\n",
       "      <td>0.0</td>\n",
       "      <td>0.0</td>\n",
       "      <td>0.0</td>\n",
       "      <td>0</td>\n",
       "      <td>0.0</td>\n",
       "      <td>...</td>\n",
       "      <td>0.0</td>\n",
       "      <td>0.0</td>\n",
       "      <td>0.0</td>\n",
       "      <td>0.0</td>\n",
       "      <td>0.0</td>\n",
       "      <td>0.0</td>\n",
       "      <td>0.0</td>\n",
       "      <td>0.0</td>\n",
       "      <td>0.0</td>\n",
       "      <td>0.0</td>\n",
       "    </tr>\n",
       "    <tr>\n",
       "      <th>1</th>\n",
       "      <td>('SHERLOCK', 'NNP')</td>\n",
       "      <td>NNP</td>\n",
       "      <td>SHERLOCK</td>\n",
       "      <td>sherlock</td>\n",
       "      <td>0.0</td>\n",
       "      <td>0.0</td>\n",
       "      <td>0.0</td>\n",
       "      <td>0.0</td>\n",
       "      <td>0</td>\n",
       "      <td>0.0</td>\n",
       "      <td>...</td>\n",
       "      <td>0.0</td>\n",
       "      <td>0.0</td>\n",
       "      <td>0.0</td>\n",
       "      <td>0.0</td>\n",
       "      <td>0.0</td>\n",
       "      <td>0.0</td>\n",
       "      <td>0.0</td>\n",
       "      <td>0.0</td>\n",
       "      <td>0.0</td>\n",
       "      <td>0.0</td>\n",
       "    </tr>\n",
       "    <tr>\n",
       "      <th>2</th>\n",
       "      <td>('HOLMES.', 'NNP')</td>\n",
       "      <td>NNP</td>\n",
       "      <td>HOLMES.</td>\n",
       "      <td>holmes</td>\n",
       "      <td>0.0</td>\n",
       "      <td>0.0</td>\n",
       "      <td>0.0</td>\n",
       "      <td>0.0</td>\n",
       "      <td>0</td>\n",
       "      <td>0.0</td>\n",
       "      <td>...</td>\n",
       "      <td>0.0</td>\n",
       "      <td>0.0</td>\n",
       "      <td>0.0</td>\n",
       "      <td>0.0</td>\n",
       "      <td>0.0</td>\n",
       "      <td>0.0</td>\n",
       "      <td>0.0</td>\n",
       "      <td>0.0</td>\n",
       "      <td>0.0</td>\n",
       "      <td>0.0</td>\n",
       "    </tr>\n",
       "    <tr>\n",
       "      <th rowspan=\"2\" valign=\"top\">1</th>\n",
       "      <th rowspan=\"2\" valign=\"top\">0</th>\n",
       "      <th>0</th>\n",
       "      <td>('In', 'IN')</td>\n",
       "      <td>IN</td>\n",
       "      <td>In</td>\n",
       "      <td>in</td>\n",
       "      <td>0.0</td>\n",
       "      <td>0.0</td>\n",
       "      <td>0.0</td>\n",
       "      <td>0.0</td>\n",
       "      <td>0</td>\n",
       "      <td>0.0</td>\n",
       "      <td>...</td>\n",
       "      <td>0.0</td>\n",
       "      <td>0.0</td>\n",
       "      <td>0.0</td>\n",
       "      <td>0.0</td>\n",
       "      <td>0.0</td>\n",
       "      <td>0.0</td>\n",
       "      <td>0.0</td>\n",
       "      <td>0.0</td>\n",
       "      <td>0.0</td>\n",
       "      <td>0.0</td>\n",
       "    </tr>\n",
       "    <tr>\n",
       "      <th>1</th>\n",
       "      <td>('the', 'DT')</td>\n",
       "      <td>DT</td>\n",
       "      <td>the</td>\n",
       "      <td>the</td>\n",
       "      <td>0.0</td>\n",
       "      <td>0.0</td>\n",
       "      <td>0.0</td>\n",
       "      <td>0.0</td>\n",
       "      <td>0</td>\n",
       "      <td>0.0</td>\n",
       "      <td>...</td>\n",
       "      <td>0.0</td>\n",
       "      <td>0.0</td>\n",
       "      <td>0.0</td>\n",
       "      <td>0.0</td>\n",
       "      <td>0.0</td>\n",
       "      <td>0.0</td>\n",
       "      <td>0.0</td>\n",
       "      <td>0.0</td>\n",
       "      <td>0.0</td>\n",
       "      <td>0.0</td>\n",
       "    </tr>\n",
       "    <tr>\n",
       "      <th>...</th>\n",
       "      <th>...</th>\n",
       "      <th>...</th>\n",
       "      <th>...</th>\n",
       "      <th>...</th>\n",
       "      <td>...</td>\n",
       "      <td>...</td>\n",
       "      <td>...</td>\n",
       "      <td>...</td>\n",
       "      <td>...</td>\n",
       "      <td>...</td>\n",
       "      <td>...</td>\n",
       "      <td>...</td>\n",
       "      <td>...</td>\n",
       "      <td>...</td>\n",
       "      <td>...</td>\n",
       "      <td>...</td>\n",
       "      <td>...</td>\n",
       "      <td>...</td>\n",
       "      <td>...</td>\n",
       "      <td>...</td>\n",
       "      <td>...</td>\n",
       "      <td>...</td>\n",
       "      <td>...</td>\n",
       "      <td>...</td>\n",
       "      <td>...</td>\n",
       "    </tr>\n",
       "    <tr>\n",
       "      <th rowspan=\"5\" valign=\"top\">70114</th>\n",
       "      <th rowspan=\"5\" valign=\"top\">18</th>\n",
       "      <th rowspan=\"5\" valign=\"top\">113</th>\n",
       "      <th rowspan=\"3\" valign=\"top\">0</th>\n",
       "      <th>4</th>\n",
       "      <td>('he', 'PRP')</td>\n",
       "      <td>PRP</td>\n",
       "      <td>he</td>\n",
       "      <td>he</td>\n",
       "      <td>0.0</td>\n",
       "      <td>0.0</td>\n",
       "      <td>0.0</td>\n",
       "      <td>0.0</td>\n",
       "      <td>0</td>\n",
       "      <td>0.0</td>\n",
       "      <td>...</td>\n",
       "      <td>0.0</td>\n",
       "      <td>0.0</td>\n",
       "      <td>0.0</td>\n",
       "      <td>0.0</td>\n",
       "      <td>0.0</td>\n",
       "      <td>0.0</td>\n",
       "      <td>0.0</td>\n",
       "      <td>0.0</td>\n",
       "      <td>0.0</td>\n",
       "      <td>0.0</td>\n",
       "    </tr>\n",
       "    <tr>\n",
       "      <th>5</th>\n",
       "      <td>('said', 'VBD')</td>\n",
       "      <td>VBD</td>\n",
       "      <td>said</td>\n",
       "      <td>said</td>\n",
       "      <td>0.0</td>\n",
       "      <td>0.0</td>\n",
       "      <td>0.0</td>\n",
       "      <td>0.0</td>\n",
       "      <td>0</td>\n",
       "      <td>0.0</td>\n",
       "      <td>...</td>\n",
       "      <td>0.0</td>\n",
       "      <td>0.0</td>\n",
       "      <td>0.0</td>\n",
       "      <td>0.0</td>\n",
       "      <td>0.0</td>\n",
       "      <td>0.0</td>\n",
       "      <td>0.0</td>\n",
       "      <td>0.0</td>\n",
       "      <td>0.0</td>\n",
       "      <td>0.0</td>\n",
       "    </tr>\n",
       "    <tr>\n",
       "      <th>6</th>\n",
       "      <td>('again.', 'NN')</td>\n",
       "      <td>NN</td>\n",
       "      <td>again.</td>\n",
       "      <td>again</td>\n",
       "      <td>0.0</td>\n",
       "      <td>0.0</td>\n",
       "      <td>0.0</td>\n",
       "      <td>0.0</td>\n",
       "      <td>0</td>\n",
       "      <td>0.0</td>\n",
       "      <td>...</td>\n",
       "      <td>0.0</td>\n",
       "      <td>0.0</td>\n",
       "      <td>0.0</td>\n",
       "      <td>0.0</td>\n",
       "      <td>0.0</td>\n",
       "      <td>0.0</td>\n",
       "      <td>0.0</td>\n",
       "      <td>0.0</td>\n",
       "      <td>0.0</td>\n",
       "      <td>0.0</td>\n",
       "    </tr>\n",
       "    <tr>\n",
       "      <th rowspan=\"2\" valign=\"top\">1</th>\n",
       "      <th>0</th>\n",
       "      <td>('\"Who', 'NNS')</td>\n",
       "      <td>NNS</td>\n",
       "      <td>\"Who</td>\n",
       "      <td>who</td>\n",
       "      <td>0.0</td>\n",
       "      <td>0.0</td>\n",
       "      <td>0.0</td>\n",
       "      <td>0.0</td>\n",
       "      <td>0</td>\n",
       "      <td>0.0</td>\n",
       "      <td>...</td>\n",
       "      <td>0.0</td>\n",
       "      <td>0.0</td>\n",
       "      <td>0.0</td>\n",
       "      <td>0.0</td>\n",
       "      <td>0.0</td>\n",
       "      <td>0.0</td>\n",
       "      <td>0.0</td>\n",
       "      <td>0.0</td>\n",
       "      <td>0.0</td>\n",
       "      <td>0.0</td>\n",
       "    </tr>\n",
       "    <tr>\n",
       "      <th>1</th>\n",
       "      <td>('knows?\"', 'VBP')</td>\n",
       "      <td>VBP</td>\n",
       "      <td>knows?\"</td>\n",
       "      <td>knows</td>\n",
       "      <td>0.0</td>\n",
       "      <td>0.0</td>\n",
       "      <td>0.0</td>\n",
       "      <td>0.0</td>\n",
       "      <td>0</td>\n",
       "      <td>0.0</td>\n",
       "      <td>...</td>\n",
       "      <td>0.0</td>\n",
       "      <td>0.0</td>\n",
       "      <td>0.0</td>\n",
       "      <td>0.0</td>\n",
       "      <td>0.0</td>\n",
       "      <td>0.0</td>\n",
       "      <td>0.0</td>\n",
       "      <td>0.0</td>\n",
       "      <td>0.0</td>\n",
       "      <td>0.0</td>\n",
       "    </tr>\n",
       "  </tbody>\n",
       "</table>\n",
       "<p>878552 rows × 27 columns</p>\n",
       "</div>"
      ],
      "text/plain": [
       "                                                       pos_tuple  pos  \\\n",
       "book_id chap_id para_num sent_num token_num                             \n",
       "244     1       0        0        0               ('MR.', 'NNP')  NNP   \n",
       "                                  1          ('SHERLOCK', 'NNP')  NNP   \n",
       "                                  2           ('HOLMES.', 'NNP')  NNP   \n",
       "                1        0        0                 ('In', 'IN')   IN   \n",
       "                                  1                ('the', 'DT')   DT   \n",
       "...                                                          ...  ...   \n",
       "70114   18      113      0        4                ('he', 'PRP')  PRP   \n",
       "                                  5              ('said', 'VBD')  VBD   \n",
       "                                  6             ('again.', 'NN')   NN   \n",
       "                         1        0              ('\"Who', 'NNS')  NNS   \n",
       "                                  1           ('knows?\"', 'VBP')  VBP   \n",
       "\n",
       "                                            token_str  term_str    n  n_chars  \\\n",
       "book_id chap_id para_num sent_num token_num                                     \n",
       "244     1       0        0        0               MR.        mr  0.0      0.0   \n",
       "                                  1          SHERLOCK  sherlock  0.0      0.0   \n",
       "                                  2           HOLMES.    holmes  0.0      0.0   \n",
       "                1        0        0                In        in  0.0      0.0   \n",
       "                                  1               the       the  0.0      0.0   \n",
       "...                                               ...       ...  ...      ...   \n",
       "70114   18      113      0        4                he        he  0.0      0.0   \n",
       "                                  5              said      said  0.0      0.0   \n",
       "                                  6            again.     again  0.0      0.0   \n",
       "                         1        0              \"Who       who  0.0      0.0   \n",
       "                                  1           knows?\"     knows  0.0      0.0   \n",
       "\n",
       "                                               p    i max_pos   df  ...  \\\n",
       "book_id chap_id para_num sent_num token_num                         ...   \n",
       "244     1       0        0        0          0.0  0.0       0  0.0  ...   \n",
       "                                  1          0.0  0.0       0  0.0  ...   \n",
       "                                  2          0.0  0.0       0  0.0  ...   \n",
       "                1        0        0          0.0  0.0       0  0.0  ...   \n",
       "                                  1          0.0  0.0       0  0.0  ...   \n",
       "...                                          ...  ...     ...  ...  ...   \n",
       "70114   18      113      0        4          0.0  0.0       0  0.0  ...   \n",
       "                                  5          0.0  0.0       0  0.0  ...   \n",
       "                                  6          0.0  0.0       0  0.0  ...   \n",
       "                         1        0          0.0  0.0       0  0.0  ...   \n",
       "                                  1          0.0  0.0       0  0.0  ...   \n",
       "\n",
       "                                             anticipation  disgust  fear  joy  \\\n",
       "book_id chap_id para_num sent_num token_num                                     \n",
       "244     1       0        0        0                   0.0      0.0   0.0  0.0   \n",
       "                                  1                   0.0      0.0   0.0  0.0   \n",
       "                                  2                   0.0      0.0   0.0  0.0   \n",
       "                1        0        0                   0.0      0.0   0.0  0.0   \n",
       "                                  1                   0.0      0.0   0.0  0.0   \n",
       "...                                                   ...      ...   ...  ...   \n",
       "70114   18      113      0        4                   0.0      0.0   0.0  0.0   \n",
       "                                  5                   0.0      0.0   0.0  0.0   \n",
       "                                  6                   0.0      0.0   0.0  0.0   \n",
       "                         1        0                   0.0      0.0   0.0  0.0   \n",
       "                                  1                   0.0      0.0   0.0  0.0   \n",
       "\n",
       "                                             negative  positive  sadness  \\\n",
       "book_id chap_id para_num sent_num token_num                                \n",
       "244     1       0        0        0               0.0       0.0      0.0   \n",
       "                                  1               0.0       0.0      0.0   \n",
       "                                  2               0.0       0.0      0.0   \n",
       "                1        0        0               0.0       0.0      0.0   \n",
       "                                  1               0.0       0.0      0.0   \n",
       "...                                               ...       ...      ...   \n",
       "70114   18      113      0        4               0.0       0.0      0.0   \n",
       "                                  5               0.0       0.0      0.0   \n",
       "                                  6               0.0       0.0      0.0   \n",
       "                         1        0               0.0       0.0      0.0   \n",
       "                                  1               0.0       0.0      0.0   \n",
       "\n",
       "                                             surprise  trust  sentiment  \n",
       "book_id chap_id para_num sent_num token_num                              \n",
       "244     1       0        0        0               0.0    0.0        0.0  \n",
       "                                  1               0.0    0.0        0.0  \n",
       "                                  2               0.0    0.0        0.0  \n",
       "                1        0        0               0.0    0.0        0.0  \n",
       "                                  1               0.0    0.0        0.0  \n",
       "...                                               ...    ...        ...  \n",
       "70114   18      113      0        4               0.0    0.0        0.0  \n",
       "                                  5               0.0    0.0        0.0  \n",
       "                                  6               0.0    0.0        0.0  \n",
       "                         1        0               0.0    0.0        0.0  \n",
       "                                  1               0.0    0.0        0.0  \n",
       "\n",
       "[878552 rows x 27 columns]"
      ]
     },
     "execution_count": 64,
     "metadata": {},
     "output_type": "execute_result"
    }
   ],
   "source": [
    "T"
   ]
  },
  {
   "cell_type": "code",
   "execution_count": 65,
   "id": "abcbbd86",
   "metadata": {},
   "outputs": [],
   "source": [
    "T.to_csv('T.csv')"
   ]
  },
  {
   "cell_type": "markdown",
   "id": "8fedfa43-c01b-4258-ac5a-3a2ae593a901",
   "metadata": {},
   "source": [
    "## Analysis"
   ]
  },
  {
   "cell_type": "code",
   "execution_count": 66,
   "id": "4793a8cd-a61d-4129-a04f-1a20260eeb9f",
   "metadata": {},
   "outputs": [
    {
     "data": {
      "text/plain": [
       "<AxesSubplot:ylabel='title_short'>"
      ]
     },
     "execution_count": 66,
     "metadata": {},
     "output_type": "execute_result"
    },
    {
     "data": {
      "image/png": "[encoded data removed]",
      "text/plain": [
       "<Figure size 720x1440 with 1 Axes>"
      ]
     },
     "metadata": {},
     "output_type": "display_data"
    }
   ],
   "source": [
    "EMO_BOOKS.plot.barh(figsize=(10,20))"
   ]
  },
  {
   "cell_type": "markdown",
   "id": "c0f0b38e-c034-4ce1-a4a9-1dcdd9ef4925",
   "metadata": {},
   "source": [
    "## Comparing Books"
   ]
  },
  {
   "cell_type": "code",
   "execution_count": 67,
   "id": "580d30c9-602e-49fe-ab3b-6a753109af3d",
   "metadata": {},
   "outputs": [],
   "source": [
    "MYSTERIOUS = EMO_CHAPS.loc[863].copy()\n",
    "ADVENTURES = EMO_CHAPS.loc[834].copy()"
   ]
  },
  {
   "cell_type": "code",
   "execution_count": 70,
   "id": "67507439-4740-4f59-8075-2056c9aa51f9",
   "metadata": {},
   "outputs": [
    {
     "data": {
      "image/png": "[encoded data removed]",
      "text/plain": [
       "<Figure size 432x288 with 1 Axes>"
      ]
     },
     "metadata": {},
     "output_type": "display_data"
    }
   ],
   "source": [
    "MYSTERIOUS.mean().sort_values().plot.barh();"
   ]
  },
  {
   "cell_type": "code",
   "execution_count": 71,
   "id": "9891edb9-dd19-4032-bd1c-4c4930cf2fa3",
   "metadata": {},
   "outputs": [
    {
     "data": {
      "image/png": "[encoded data removed]",
      "text/plain": [
       "<Figure size 432x288 with 1 Axes>"
      ]
     },
     "metadata": {},
     "output_type": "display_data"
    }
   ],
   "source": [
    "ADVENTURES.mean().sort_values().plot.barh();"
   ]
  },
  {
   "cell_type": "code",
   "execution_count": 72,
   "id": "e63e95d0-652f-49be-abf8-ac659f866443",
   "metadata": {},
   "outputs": [],
   "source": [
    "MYSTERIOUS_chaps_thin = EMO_CHAPS.stack().to_frame().reset_index().rename(columns={0:'value','level_2':'emo'}).query(\"book_id == {}\".format(863))\n",
    "ADVENTURES_chaps_thin= EMO_CHAPS.stack().to_frame().reset_index().rename(columns={0:'value','level_2':'emo'}).query(\"book_id == {}\".format(834))"
   ]
  },
  {
   "cell_type": "code",
   "execution_count": 77,
   "id": "a6d38b08-cbf7-4f67-a9ff-b484265e6da8",
   "metadata": {},
   "outputs": [],
   "source": [
    "def plot_sentiments(df, emo='sentiment'):\n",
    "    FIG = dict(figsize=(25, 10), legend=True, fontsize=14, rot=45)\n",
    "    df[emo].plot(**FIG)"
   ]
  },
  {
   "cell_type": "code",
   "execution_count": 78,
   "id": "4cffaeaf-3b95-45bf-b4cc-aae2726d59ac",
   "metadata": {},
   "outputs": [
    {
     "data": {
      "application/vnd.plotly.v1+json": {
       "config": {
        "plotlyServerURL": "https://plot.ly"
       },
       "data": [
        {
         "hovertemplate": "emo=anger<br>chap_id=%{x}<br>value=%{y}<extra></extra>",
         "legendgroup": "anger",
         "line": {
          "color": "#636efa",
          "dash": "solid"
         },
         "marker": {
          "symbol": "circle"
         },
         "mode": "lines",
         "name": "anger",
         "orientation": "v",
         "showlegend": true,
         "type": "scatter",
         "x": [
          1,
          2,
          3,
          4,
          5,
          6,
          7,
          8,
          9,
          10,
          11,
          12,
          13
         ],
         "xaxis": "x",
         "y": [
          0.00021842292086603728,
          0.00027805046814424116,
          0.00047149011564249897,
          0.00022623636987904744,
          0.00017026678983045,
          0.00035115324958720923,
          0.00028890307235608274,
          0.00019677924268473392,
          0.0003197002892300804,
          0.00021692776603376903,
          0.00041412525371875005,
          0.0004235820329525178,
          0.0002757947472141415
         ],
         "yaxis": "y"
        },
        {
         "hovertemplate": "emo=anticipation<br>chap_id=%{x}<br>value=%{y}<extra></extra>",
         "legendgroup": "anticipation",
         "line": {
          "color": "#EF553B",
          "dash": "solid"
         },
         "marker": {
          "symbol": "circle"
         },
         "mode": "lines",
         "name": "anticipation",
         "orientation": "v",
         "showlegend": true,
         "type": "scatter",
         "x": [
          1,
          2,
          3,
          4,
          5,
          6,
          7,
          8,
          9,
          10,
          11,
          12,
          13
         ],
         "xaxis": "x",
         "y": [
          0.0002727476846254852,
          0.00042526769477937537,
          0.0002863248564220427,
          0.0001637607150272994,
          0.00010308212197853491,
          0.00016255204030578966,
          0.0001471037736395909,
          0.00015894420937975632,
          0.00021456003305203944,
          0.0001723073476124587,
          0.00013447248635043167,
          0.00020184707167803483,
          0.00021917009179483367
         ],
         "yaxis": "y"
        },
        {
         "hovertemplate": "emo=disgust<br>chap_id=%{x}<br>value=%{y}<extra></extra>",
         "legendgroup": "disgust",
         "line": {
          "color": "#00cc96",
          "dash": "solid"
         },
         "marker": {
          "symbol": "circle"
         },
         "mode": "lines",
         "name": "disgust",
         "orientation": "v",
         "showlegend": true,
         "type": "scatter",
         "x": [
          1,
          2,
          3,
          4,
          5,
          6,
          7,
          8,
          9,
          10,
          11,
          12,
          13
         ],
         "xaxis": "x",
         "y": [
          0.0003310567598831024,
          0.00022205123580822746,
          0.0005375284771463062,
          0.0001978183989870063,
          0.0001861396726358177,
          0.0002372382803099148,
          0.00034537076616657274,
          0.0002074251738759661,
          0.00037064421784987827,
          0.0002226630872758458,
          0.0003200949947485194,
          0.00031698962655068666,
          0.0002790243540533556
         ],
         "yaxis": "y"
        },
        {
         "hovertemplate": "emo=fear<br>chap_id=%{x}<br>value=%{y}<extra></extra>",
         "legendgroup": "fear",
         "line": {
          "color": "#ab63fa",
          "dash": "solid"
         },
         "marker": {
          "symbol": "circle"
         },
         "mode": "lines",
         "name": "fear",
         "orientation": "v",
         "showlegend": true,
         "type": "scatter",
         "x": [
          1,
          2,
          3,
          4,
          5,
          6,
          7,
          8,
          9,
          10,
          11,
          12,
          13
         ],
         "xaxis": "x",
         "y": [
          0.0002800044333123846,
          0.0002996332412053725,
          0.0006903169894149265,
          0.00022687963607760685,
          0.00021164503782261898,
          0.00045490997789284166,
          0.00032275102661621815,
          0.00027229492233297705,
          0.00040245246198383116,
          0.00023739794964840064,
          0.000425731557818299,
          0.0005412213933494955,
          0.0003479116892654761
         ],
         "yaxis": "y"
        },
        {
         "hovertemplate": "emo=joy<br>chap_id=%{x}<br>value=%{y}<extra></extra>",
         "legendgroup": "joy",
         "line": {
          "color": "#FFA15A",
          "dash": "solid"
         },
         "marker": {
          "symbol": "circle"
         },
         "mode": "lines",
         "name": "joy",
         "orientation": "v",
         "showlegend": true,
         "type": "scatter",
         "x": [
          1,
          2,
          3,
          4,
          5,
          6,
          7,
          8,
          9,
          10,
          11,
          12,
          13
         ],
         "xaxis": "x",
         "y": [
          0.0003813318223278627,
          0.0004717905469710097,
          0.00022776076058024579,
          0.00017750900988628603,
          0.00010111922318204612,
          0.00014081628352880077,
          0.00016024002331568727,
          0.0001762048328608684,
          0.0002981731885297314,
          0.0002185363096704974,
          0.00014079441658744547,
          0.00016035581499390517,
          0.00020025262957843788
         ],
         "yaxis": "y"
        },
        {
         "hovertemplate": "emo=sadness<br>chap_id=%{x}<br>value=%{y}<extra></extra>",
         "legendgroup": "sadness",
         "line": {
          "color": "#19d3f3",
          "dash": "solid"
         },
         "marker": {
          "symbol": "circle"
         },
         "mode": "lines",
         "name": "sadness",
         "orientation": "v",
         "showlegend": true,
         "type": "scatter",
         "x": [
          1,
          2,
          3,
          4,
          5,
          6,
          7,
          8,
          9,
          10,
          11,
          12,
          13
         ],
         "xaxis": "x",
         "y": [
          0.00020339447075843074,
          0.0003786384871193706,
          0.0005447788399436857,
          0.0002179786855127383,
          0.00017748179176369785,
          0.0004278985232304472,
          0.00024832072887975544,
          0.00022841475629078792,
          0.0003477496604641319,
          0.0002439227669010168,
          0.0003855501785884087,
          0.0004408218263877726,
          0.00029201180566013236
         ],
         "yaxis": "y"
        },
        {
         "hovertemplate": "emo=surprise<br>chap_id=%{x}<br>value=%{y}<extra></extra>",
         "legendgroup": "surprise",
         "line": {
          "color": "#FF6692",
          "dash": "solid"
         },
         "marker": {
          "symbol": "circle"
         },
         "mode": "lines",
         "name": "surprise",
         "orientation": "v",
         "showlegend": true,
         "type": "scatter",
         "x": [
          1,
          2,
          3,
          4,
          5,
          6,
          7,
          8,
          9,
          10,
          11,
          12,
          13
         ],
         "xaxis": "x",
         "y": [
          0.00017305337926890887,
          0.0002241281136197862,
          0.00025655156413929473,
          0.000104329769191136,
          7.312229150453534e-05,
          0.000113031999497748,
          0.00011309931517210365,
          0.00010724187125818333,
          0.00015662480763637204,
          0.00012151669939855098,
          7.881211265645974e-05,
          0.00019148564404849406,
          9.402070452016254e-05
         ],
         "yaxis": "y"
        },
        {
         "hovertemplate": "emo=trust<br>chap_id=%{x}<br>value=%{y}<extra></extra>",
         "legendgroup": "trust",
         "line": {
          "color": "#B6E880",
          "dash": "solid"
         },
         "marker": {
          "symbol": "circle"
         },
         "mode": "lines",
         "name": "trust",
         "orientation": "v",
         "showlegend": true,
         "type": "scatter",
         "x": [
          1,
          2,
          3,
          4,
          5,
          6,
          7,
          8,
          9,
          10,
          11,
          12,
          13
         ],
         "xaxis": "x",
         "y": [
          0.0004048504733553722,
          0.0005651721907576057,
          0.00045615275380001213,
          0.00025605370512772716,
          0.00014166994678049008,
          0.00029894710771208874,
          0.00029615745383201913,
          0.00025175903180740057,
          0.00026592654395484714,
          0.00024070885624284967,
          0.00020494608918011952,
          0.0002463823453079096,
          0.00020826963812715972
         ],
         "yaxis": "y"
        },
        {
         "hovertemplate": "emo=sentiment<br>chap_id=%{x}<br>value=%{y}<extra></extra>",
         "legendgroup": "sentiment",
         "line": {
          "color": "#FF97FF",
          "dash": "solid"
         },
         "marker": {
          "symbol": "circle"
         },
         "mode": "lines",
         "name": "sentiment",
         "orientation": "v",
         "showlegend": true,
         "type": "scatter",
         "x": [
          1,
          2,
          3,
          4,
          5,
          6,
          7,
          8,
          9,
          10,
          11,
          12,
          13
         ],
         "xaxis": "x",
         "y": [
          3.5524635378837286e-05,
          0.00015322728642916164,
          -0.0007122052570338133,
          -0.00011441234845316257,
          -0.0002246135292074957,
          -0.00041708023814819177,
          -0.0002977858363029882,
          -6.585264336150804e-05,
          -0.0002727013625017403,
          -8.465790138622064e-05,
          -0.00040363964181761117,
          -0.00047515410291855555,
          -0.0002610906428940572
         ],
         "yaxis": "y"
        }
       ],
       "layout": {
        "autosize": true,
        "legend": {
         "title": {
          "text": "emo"
         },
         "tracegroupgap": 0
        },
        "margin": {
         "t": 60
        },
        "template": {
         "data": {
          "bar": [
           {
            "error_x": {
             "color": "#2a3f5f"
            },
            "error_y": {
             "color": "#2a3f5f"
            },
            "marker": {
             "line": {
              "color": "#E5ECF6",
              "width": 0.5
             },
             "pattern": {
              "fillmode": "overlay",
              "size": 10,
              "solidity": 0.2
             }
            },
            "type": "bar"
           }
          ],
          "barpolar": [
           {
            "marker": {
             "line": {
              "color": "#E5ECF6",
              "width": 0.5
             },
             "pattern": {
              "fillmode": "overlay",
              "size": 10,
              "solidity": 0.2
             }
            },
            "type": "barpolar"
           }
          ],
          "carpet": [
           {
            "aaxis": {
             "endlinecolor": "#2a3f5f",
             "gridcolor": "white",
             "linecolor": "white",
             "minorgridcolor": "white",
             "startlinecolor": "#2a3f5f"
            },
            "baxis": {
             "endlinecolor": "#2a3f5f",
             "gridcolor": "white",
             "linecolor": "white",
             "minorgridcolor": "white",
             "startlinecolor": "#2a3f5f"
            },
            "type": "carpet"
           }
          ],
          "choropleth": [
           {
            "colorbar": {
             "outlinewidth": 0,
             "ticks": ""
            },
            "type": "choropleth"
           }
          ],
          "contour": [
           {
            "colorbar": {
             "outlinewidth": 0,
             "ticks": ""
            },
            "colorscale": [
             [
              0,
              "#0d0887"
             ],
             [
              0.1111111111111111,
              "#46039f"
             ],
             [
              0.2222222222222222,
              "#7201a8"
             ],
             [
              0.3333333333333333,
              "#9c179e"
             ],
             [
              0.4444444444444444,
              "#bd3786"
             ],
             [
              0.5555555555555556,
              "#d8576b"
             ],
             [
              0.6666666666666666,
              "#ed7953"
             ],
             [
              0.7777777777777778,
              "#fb9f3a"
             ],
             [
              0.8888888888888888,
              "#fdca26"
             ],
             [
              1,
              "#f0f921"
             ]
            ],
            "type": "contour"
           }
          ],
          "contourcarpet": [
           {
            "colorbar": {
             "outlinewidth": 0,
             "ticks": ""
            },
            "type": "contourcarpet"
           }
          ],
          "heatmap": [
           {
            "colorbar": {
             "outlinewidth": 0,
             "ticks": ""
            },
            "colorscale": [
             [
              0,
              "#0d0887"
             ],
             [
              0.1111111111111111,
              "#46039f"
             ],
             [
              0.2222222222222222,
              "#7201a8"
             ],
             [
              0.3333333333333333,
              "#9c179e"
             ],
             [
              0.4444444444444444,
              "#bd3786"
             ],
             [
              0.5555555555555556,
              "#d8576b"
             ],
             [
              0.6666666666666666,
              "#ed7953"
             ],
             [
              0.7777777777777778,
              "#fb9f3a"
             ],
             [
              0.8888888888888888,
              "#fdca26"
             ],
             [
              1,
              "#f0f921"
             ]
            ],
            "type": "heatmap"
           }
          ],
          "heatmapgl": [
           {
            "colorbar": {
             "outlinewidth": 0,
             "ticks": ""
            },
            "colorscale": [
             [
              0,
              "#0d0887"
             ],
             [
              0.1111111111111111,
              "#46039f"
             ],
             [
              0.2222222222222222,
              "#7201a8"
             ],
             [
              0.3333333333333333,
              "#9c179e"
             ],
             [
              0.4444444444444444,
              "#bd3786"
             ],
             [
              0.5555555555555556,
              "#d8576b"
             ],
             [
              0.6666666666666666,
              "#ed7953"
             ],
             [
              0.7777777777777778,
              "#fb9f3a"
             ],
             [
              0.8888888888888888,
              "#fdca26"
             ],
             [
              1,
              "#f0f921"
             ]
            ],
            "type": "heatmapgl"
           }
          ],
          "histogram": [
           {
            "marker": {
             "pattern": {
              "fillmode": "overlay",
              "size": 10,
              "solidity": 0.2
             }
            },
            "type": "histogram"
           }
          ],
          "histogram2d": [
           {
            "colorbar": {
             "outlinewidth": 0,
             "ticks": ""
            },
            "colorscale": [
             [
              0,
              "#0d0887"
             ],
             [
              0.1111111111111111,
              "#46039f"
             ],
             [
              0.2222222222222222,
              "#7201a8"
             ],
             [
              0.3333333333333333,
              "#9c179e"
             ],
             [
              0.4444444444444444,
              "#bd3786"
             ],
             [
              0.5555555555555556,
              "#d8576b"
             ],
             [
              0.6666666666666666,
              "#ed7953"
             ],
             [
              0.7777777777777778,
              "#fb9f3a"
             ],
             [
              0.8888888888888888,
              "#fdca26"
             ],
             [
              1,
              "#f0f921"
             ]
            ],
            "type": "histogram2d"
           }
          ],
          "histogram2dcontour": [
           {
            "colorbar": {
             "outlinewidth": 0,
             "ticks": ""
            },
            "colorscale": [
             [
              0,
              "#0d0887"
             ],
             [
              0.1111111111111111,
              "#46039f"
             ],
             [
              0.2222222222222222,
              "#7201a8"
             ],
             [
              0.3333333333333333,
              "#9c179e"
             ],
             [
              0.4444444444444444,
              "#bd3786"
             ],
             [
              0.5555555555555556,
              "#d8576b"
             ],
             [
              0.6666666666666666,
              "#ed7953"
             ],
             [
              0.7777777777777778,
              "#fb9f3a"
             ],
             [
              0.8888888888888888,
              "#fdca26"
             ],
             [
              1,
              "#f0f921"
             ]
            ],
            "type": "histogram2dcontour"
           }
          ],
          "mesh3d": [
           {
            "colorbar": {
             "outlinewidth": 0,
             "ticks": ""
            },
            "type": "mesh3d"
           }
          ],
          "parcoords": [
           {
            "line": {
             "colorbar": {
              "outlinewidth": 0,
              "ticks": ""
             }
            },
            "type": "parcoords"
           }
          ],
          "pie": [
           {
            "automargin": true,
            "type": "pie"
           }
          ],
          "scatter": [
           {
            "marker": {
             "colorbar": {
              "outlinewidth": 0,
              "ticks": ""
             }
            },
            "type": "scatter"
           }
          ],
          "scatter3d": [
           {
            "line": {
             "colorbar": {
              "outlinewidth": 0,
              "ticks": ""
             }
            },
            "marker": {
             "colorbar": {
              "outlinewidth": 0,
              "ticks": ""
             }
            },
            "type": "scatter3d"
           }
          ],
          "scattercarpet": [
           {
            "marker": {
             "colorbar": {
              "outlinewidth": 0,
              "ticks": ""
             }
            },
            "type": "scattercarpet"
           }
          ],
          "scattergeo": [
           {
            "marker": {
             "colorbar": {
              "outlinewidth": 0,
              "ticks": ""
             }
            },
            "type": "scattergeo"
           }
          ],
          "scattergl": [
           {
            "marker": {
             "colorbar": {
              "outlinewidth": 0,
              "ticks": ""
             }
            },
            "type": "scattergl"
           }
          ],
          "scattermapbox": [
           {
            "marker": {
             "colorbar": {
              "outlinewidth": 0,
              "ticks": ""
             }
            },
            "type": "scattermapbox"
           }
          ],
          "scatterpolar": [
           {
            "marker": {
             "colorbar": {
              "outlinewidth": 0,
              "ticks": ""
             }
            },
            "type": "scatterpolar"
           }
          ],
          "scatterpolargl": [
           {
            "marker": {
             "colorbar": {
              "outlinewidth": 0,
              "ticks": ""
             }
            },
            "type": "scatterpolargl"
           }
          ],
          "scatterternary": [
           {
            "marker": {
             "colorbar": {
              "outlinewidth": 0,
              "ticks": ""
             }
            },
            "type": "scatterternary"
           }
          ],
          "surface": [
           {
            "colorbar": {
             "outlinewidth": 0,
             "ticks": ""
            },
            "colorscale": [
             [
              0,
              "#0d0887"
             ],
             [
              0.1111111111111111,
              "#46039f"
             ],
             [
              0.2222222222222222,
              "#7201a8"
             ],
             [
              0.3333333333333333,
              "#9c179e"
             ],
             [
              0.4444444444444444,
              "#bd3786"
             ],
             [
              0.5555555555555556,
              "#d8576b"
             ],
             [
              0.6666666666666666,
              "#ed7953"
             ],
             [
              0.7777777777777778,
              "#fb9f3a"
             ],
             [
              0.8888888888888888,
              "#fdca26"
             ],
             [
              1,
              "#f0f921"
             ]
            ],
            "type": "surface"
           }
          ],
          "table": [
           {
            "cells": {
             "fill": {
              "color": "#EBF0F8"
             },
             "line": {
              "color": "white"
             }
            },
            "header": {
             "fill": {
              "color": "#C8D4E3"
             },
             "line": {
              "color": "white"
             }
            },
            "type": "table"
           }
          ]
         },
         "layout": {
          "annotationdefaults": {
           "arrowcolor": "#2a3f5f",
           "arrowhead": 0,
           "arrowwidth": 1
          },
          "autotypenumbers": "strict",
          "coloraxis": {
           "colorbar": {
            "outlinewidth": 0,
            "ticks": ""
           }
          },
          "colorscale": {
           "diverging": [
            [
             0,
             "#8e0152"
            ],
            [
             0.1,
             "#c51b7d"
            ],
            [
             0.2,
             "#de77ae"
            ],
            [
             0.3,
             "#f1b6da"
            ],
            [
             0.4,
             "#fde0ef"
            ],
            [
             0.5,
             "#f7f7f7"
            ],
            [
             0.6,
             "#e6f5d0"
            ],
            [
             0.7,
             "#b8e186"
            ],
            [
             0.8,
             "#7fbc41"
            ],
            [
             0.9,
             "#4d9221"
            ],
            [
             1,
             "#276419"
            ]
           ],
           "sequential": [
            [
             0,
             "#0d0887"
            ],
            [
             0.1111111111111111,
             "#46039f"
            ],
            [
             0.2222222222222222,
             "#7201a8"
            ],
            [
             0.3333333333333333,
             "#9c179e"
            ],
            [
             0.4444444444444444,
             "#bd3786"
            ],
            [
             0.5555555555555556,
             "#d8576b"
            ],
            [
             0.6666666666666666,
             "#ed7953"
            ],
            [
             0.7777777777777778,
             "#fb9f3a"
            ],
            [
             0.8888888888888888,
             "#fdca26"
            ],
            [
             1,
             "#f0f921"
            ]
           ],
           "sequentialminus": [
            [
             0,
             "#0d0887"
            ],
            [
             0.1111111111111111,
             "#46039f"
            ],
            [
             0.2222222222222222,
             "#7201a8"
            ],
            [
             0.3333333333333333,
             "#9c179e"
            ],
            [
             0.4444444444444444,
             "#bd3786"
            ],
            [
             0.5555555555555556,
             "#d8576b"
            ],
            [
             0.6666666666666666,
             "#ed7953"
            ],
            [
             0.7777777777777778,
             "#fb9f3a"
            ],
            [
             0.8888888888888888,
             "#fdca26"
            ],
            [
             1,
             "#f0f921"
            ]
           ]
          },
          "colorway": [
           "#636efa",
           "#EF553B",
           "#00cc96",
           "#ab63fa",
           "#FFA15A",
           "#19d3f3",
           "#FF6692",
           "#B6E880",
           "#FF97FF",
           "#FECB52"
          ],
          "font": {
           "color": "#2a3f5f"
          },
          "geo": {
           "bgcolor": "white",
           "lakecolor": "white",
           "landcolor": "#E5ECF6",
           "showlakes": true,
           "showland": true,
           "subunitcolor": "white"
          },
          "hoverlabel": {
           "align": "left"
          },
          "hovermode": "closest",
          "mapbox": {
           "style": "light"
          },
          "paper_bgcolor": "white",
          "plot_bgcolor": "#E5ECF6",
          "polar": {
           "angularaxis": {
            "gridcolor": "white",
            "linecolor": "white",
            "ticks": ""
           },
           "bgcolor": "#E5ECF6",
           "radialaxis": {
            "gridcolor": "white",
            "linecolor": "white",
            "ticks": ""
           }
          },
          "scene": {
           "xaxis": {
            "backgroundcolor": "#E5ECF6",
            "gridcolor": "white",
            "gridwidth": 2,
            "linecolor": "white",
            "showbackground": true,
            "ticks": "",
            "zerolinecolor": "white"
           },
           "yaxis": {
            "backgroundcolor": "#E5ECF6",
            "gridcolor": "white",
            "gridwidth": 2,
            "linecolor": "white",
            "showbackground": true,
            "ticks": "",
            "zerolinecolor": "white"
           },
           "zaxis": {
            "backgroundcolor": "#E5ECF6",
            "gridcolor": "white",
            "gridwidth": 2,
            "linecolor": "white",
            "showbackground": true,
            "ticks": "",
            "zerolinecolor": "white"
           }
          },
          "shapedefaults": {
           "line": {
            "color": "#2a3f5f"
           }
          },
          "ternary": {
           "aaxis": {
            "gridcolor": "white",
            "linecolor": "white",
            "ticks": ""
           },
           "baxis": {
            "gridcolor": "white",
            "linecolor": "white",
            "ticks": ""
           },
           "bgcolor": "#E5ECF6",
           "caxis": {
            "gridcolor": "white",
            "linecolor": "white",
            "ticks": ""
           }
          },
          "title": {
           "x": 0.05
          },
          "xaxis": {
           "automargin": true,
           "gridcolor": "white",
           "linecolor": "white",
           "ticks": "",
           "title": {
            "standoff": 15
           },
           "zerolinecolor": "white",
           "zerolinewidth": 2
          },
          "yaxis": {
           "automargin": true,
           "gridcolor": "white",
           "linecolor": "white",
           "ticks": "",
           "title": {
            "standoff": 15
           },
           "zerolinecolor": "white",
           "zerolinewidth": 2
          }
         }
        },
        "xaxis": {
         "anchor": "y",
         "autorange": true,
         "domain": [
          0,
          1
         ],
         "range": [
          1,
          13
         ],
         "title": {
          "text": "chap_id"
         },
         "type": "linear"
        },
        "yaxis": {
         "anchor": "x",
         "autorange": true,
         "domain": [
          0,
          1
         ],
         "range": [
          -0.0007901231596142989,
          0.000768234891995412
         ],
         "title": {
          "text": "value"
         },
         "type": "linear"
        }
       }
      },
      "image/png": "[encoded data removed]",
      "text/html": [
       "<div>                            <div id=\"2016693f-657c-47bf-85d8-aa5e04413297\" class=\"plotly-graph-div\" style=\"height:525px; width:100%;\"></div>            <script type=\"text/javascript\">                require([\"plotly\"], function(Plotly) {                    window.PLOTLYENV=window.PLOTLYENV || {};                                    if (document.getElementById(\"2016693f-657c-47bf-85d8-aa5e04413297\")) {                    Plotly.newPlot(                        \"2016693f-657c-47bf-85d8-aa5e04413297\",                        [{\"hovertemplate\":\"emo=anger<br>chap_id=%{x}<br>value=%{y}<extra></extra>\",\"legendgroup\":\"anger\",\"line\":{\"color\":\"#636efa\",\"dash\":\"solid\"},\"marker\":{\"symbol\":\"circle\"},\"mode\":\"lines\",\"name\":\"anger\",\"orientation\":\"v\",\"showlegend\":true,\"x\":[1,2,3,4,5,6,7,8,9,10,11,12,13],\"xaxis\":\"x\",\"y\":[0.00021842292086603728,0.00027805046814424116,0.00047149011564249897,0.00022623636987904744,0.00017026678983045,0.00035115324958720923,0.00028890307235608274,0.00019677924268473392,0.0003197002892300804,0.00021692776603376903,0.00041412525371875005,0.0004235820329525178,0.0002757947472141415],\"yaxis\":\"y\",\"type\":\"scatter\"},{\"hovertemplate\":\"emo=anticipation<br>chap_id=%{x}<br>value=%{y}<extra></extra>\",\"legendgroup\":\"anticipation\",\"line\":{\"color\":\"#EF553B\",\"dash\":\"solid\"},\"marker\":{\"symbol\":\"circle\"},\"mode\":\"lines\",\"name\":\"anticipation\",\"orientation\":\"v\",\"showlegend\":true,\"x\":[1,2,3,4,5,6,7,8,9,10,11,12,13],\"xaxis\":\"x\",\"y\":[0.0002727476846254852,0.00042526769477937537,0.0002863248564220427,0.0001637607150272994,0.00010308212197853491,0.00016255204030578966,0.0001471037736395909,0.00015894420937975632,0.00021456003305203944,0.0001723073476124587,0.00013447248635043167,0.00020184707167803483,0.00021917009179483367],\"yaxis\":\"y\",\"type\":\"scatter\"},{\"hovertemplate\":\"emo=disgust<br>chap_id=%{x}<br>value=%{y}<extra></extra>\",\"legendgroup\":\"disgust\",\"line\":{\"color\":\"#00cc96\",\"dash\":\"solid\"},\"marker\":{\"symbol\":\"circle\"},\"mode\":\"lines\",\"name\":\"disgust\",\"orientation\":\"v\",\"showlegend\":true,\"x\":[1,2,3,4,5,6,7,8,9,10,11,12,13],\"xaxis\":\"x\",\"y\":[0.0003310567598831024,0.00022205123580822746,0.0005375284771463062,0.0001978183989870063,0.0001861396726358177,0.0002372382803099148,0.00034537076616657274,0.0002074251738759661,0.00037064421784987827,0.0002226630872758458,0.0003200949947485194,0.00031698962655068666,0.0002790243540533556],\"yaxis\":\"y\",\"type\":\"scatter\"},{\"hovertemplate\":\"emo=fear<br>chap_id=%{x}<br>value=%{y}<extra></extra>\",\"legendgroup\":\"fear\",\"line\":{\"color\":\"#ab63fa\",\"dash\":\"solid\"},\"marker\":{\"symbol\":\"circle\"},\"mode\":\"lines\",\"name\":\"fear\",\"orientation\":\"v\",\"showlegend\":true,\"x\":[1,2,3,4,5,6,7,8,9,10,11,12,13],\"xaxis\":\"x\",\"y\":[0.0002800044333123846,0.0002996332412053725,0.0006903169894149265,0.00022687963607760685,0.00021164503782261898,0.00045490997789284166,0.00032275102661621815,0.00027229492233297705,0.00040245246198383116,0.00023739794964840064,0.000425731557818299,0.0005412213933494955,0.0003479116892654761],\"yaxis\":\"y\",\"type\":\"scatter\"},{\"hovertemplate\":\"emo=joy<br>chap_id=%{x}<br>value=%{y}<extra></extra>\",\"legendgroup\":\"joy\",\"line\":{\"color\":\"#FFA15A\",\"dash\":\"solid\"},\"marker\":{\"symbol\":\"circle\"},\"mode\":\"lines\",\"name\":\"joy\",\"orientation\":\"v\",\"showlegend\":true,\"x\":[1,2,3,4,5,6,7,8,9,10,11,12,13],\"xaxis\":\"x\",\"y\":[0.0003813318223278627,0.0004717905469710097,0.00022776076058024579,0.00017750900988628603,0.00010111922318204612,0.00014081628352880077,0.00016024002331568727,0.0001762048328608684,0.0002981731885297314,0.0002185363096704974,0.00014079441658744547,0.00016035581499390517,0.00020025262957843788],\"yaxis\":\"y\",\"type\":\"scatter\"},{\"hovertemplate\":\"emo=sadness<br>chap_id=%{x}<br>value=%{y}<extra></extra>\",\"legendgroup\":\"sadness\",\"line\":{\"color\":\"#19d3f3\",\"dash\":\"solid\"},\"marker\":{\"symbol\":\"circle\"},\"mode\":\"lines\",\"name\":\"sadness\",\"orientation\":\"v\",\"showlegend\":true,\"x\":[1,2,3,4,5,6,7,8,9,10,11,12,13],\"xaxis\":\"x\",\"y\":[0.00020339447075843074,0.0003786384871193706,0.0005447788399436857,0.0002179786855127383,0.00017748179176369785,0.0004278985232304472,0.00024832072887975544,0.00022841475629078792,0.0003477496604641319,0.0002439227669010168,0.0003855501785884087,0.0004408218263877726,0.00029201180566013236],\"yaxis\":\"y\",\"type\":\"scatter\"},{\"hovertemplate\":\"emo=surprise<br>chap_id=%{x}<br>value=%{y}<extra></extra>\",\"legendgroup\":\"surprise\",\"line\":{\"color\":\"#FF6692\",\"dash\":\"solid\"},\"marker\":{\"symbol\":\"circle\"},\"mode\":\"lines\",\"name\":\"surprise\",\"orientation\":\"v\",\"showlegend\":true,\"x\":[1,2,3,4,5,6,7,8,9,10,11,12,13],\"xaxis\":\"x\",\"y\":[0.00017305337926890887,0.0002241281136197862,0.00025655156413929473,0.000104329769191136,7.312229150453534e-05,0.000113031999497748,0.00011309931517210365,0.00010724187125818333,0.00015662480763637204,0.00012151669939855098,7.881211265645974e-05,0.00019148564404849406,9.402070452016254e-05],\"yaxis\":\"y\",\"type\":\"scatter\"},{\"hovertemplate\":\"emo=trust<br>chap_id=%{x}<br>value=%{y}<extra></extra>\",\"legendgroup\":\"trust\",\"line\":{\"color\":\"#B6E880\",\"dash\":\"solid\"},\"marker\":{\"symbol\":\"circle\"},\"mode\":\"lines\",\"name\":\"trust\",\"orientation\":\"v\",\"showlegend\":true,\"x\":[1,2,3,4,5,6,7,8,9,10,11,12,13],\"xaxis\":\"x\",\"y\":[0.0004048504733553722,0.0005651721907576057,0.00045615275380001213,0.00025605370512772716,0.00014166994678049008,0.00029894710771208874,0.00029615745383201913,0.00025175903180740057,0.00026592654395484714,0.00024070885624284967,0.00020494608918011952,0.0002463823453079096,0.00020826963812715972],\"yaxis\":\"y\",\"type\":\"scatter\"},{\"hovertemplate\":\"emo=sentiment<br>chap_id=%{x}<br>value=%{y}<extra></extra>\",\"legendgroup\":\"sentiment\",\"line\":{\"color\":\"#FF97FF\",\"dash\":\"solid\"},\"marker\":{\"symbol\":\"circle\"},\"mode\":\"lines\",\"name\":\"sentiment\",\"orientation\":\"v\",\"showlegend\":true,\"x\":[1,2,3,4,5,6,7,8,9,10,11,12,13],\"xaxis\":\"x\",\"y\":[3.5524635378837286e-05,0.00015322728642916164,-0.0007122052570338133,-0.00011441234845316257,-0.0002246135292074957,-0.00041708023814819177,-0.0002977858363029882,-6.585264336150804e-05,-0.0002727013625017403,-8.465790138622064e-05,-0.00040363964181761117,-0.00047515410291855555,-0.0002610906428940572],\"yaxis\":\"y\",\"type\":\"scatter\"}],                        {\"template\":{\"data\":{\"bar\":[{\"error_x\":{\"color\":\"#2a3f5f\"},\"error_y\":{\"color\":\"#2a3f5f\"},\"marker\":{\"line\":{\"color\":\"#E5ECF6\",\"width\":0.5},\"pattern\":{\"fillmode\":\"overlay\",\"size\":10,\"solidity\":0.2}},\"type\":\"bar\"}],\"barpolar\":[{\"marker\":{\"line\":{\"color\":\"#E5ECF6\",\"width\":0.5},\"pattern\":{\"fillmode\":\"overlay\",\"size\":10,\"solidity\":0.2}},\"type\":\"barpolar\"}],\"carpet\":[{\"aaxis\":{\"endlinecolor\":\"#2a3f5f\",\"gridcolor\":\"white\",\"linecolor\":\"white\",\"minorgridcolor\":\"white\",\"startlinecolor\":\"#2a3f5f\"},\"baxis\":{\"endlinecolor\":\"#2a3f5f\",\"gridcolor\":\"white\",\"linecolor\":\"white\",\"minorgridcolor\":\"white\",\"startlinecolor\":\"#2a3f5f\"},\"type\":\"carpet\"}],\"choropleth\":[{\"colorbar\":{\"outlinewidth\":0,\"ticks\":\"\"},\"type\":\"choropleth\"}],\"contour\":[{\"colorbar\":{\"outlinewidth\":0,\"ticks\":\"\"},\"colorscale\":[[0.0,\"#0d0887\"],[0.1111111111111111,\"#46039f\"],[0.2222222222222222,\"#7201a8\"],[0.3333333333333333,\"#9c179e\"],[0.4444444444444444,\"#bd3786\"],[0.5555555555555556,\"#d8576b\"],[0.6666666666666666,\"#ed7953\"],[0.7777777777777778,\"#fb9f3a\"],[0.8888888888888888,\"#fdca26\"],[1.0,\"#f0f921\"]],\"type\":\"contour\"}],\"contourcarpet\":[{\"colorbar\":{\"outlinewidth\":0,\"ticks\":\"\"},\"type\":\"contourcarpet\"}],\"heatmap\":[{\"colorbar\":{\"outlinewidth\":0,\"ticks\":\"\"},\"colorscale\":[[0.0,\"#0d0887\"],[0.1111111111111111,\"#46039f\"],[0.2222222222222222,\"#7201a8\"],[0.3333333333333333,\"#9c179e\"],[0.4444444444444444,\"#bd3786\"],[0.5555555555555556,\"#d8576b\"],[0.6666666666666666,\"#ed7953\"],[0.7777777777777778,\"#fb9f3a\"],[0.8888888888888888,\"#fdca26\"],[1.0,\"#f0f921\"]],\"type\":\"heatmap\"}],\"heatmapgl\":[{\"colorbar\":{\"outlinewidth\":0,\"ticks\":\"\"},\"colorscale\":[[0.0,\"#0d0887\"],[0.1111111111111111,\"#46039f\"],[0.2222222222222222,\"#7201a8\"],[0.3333333333333333,\"#9c179e\"],[0.4444444444444444,\"#bd3786\"],[0.5555555555555556,\"#d8576b\"],[0.6666666666666666,\"#ed7953\"],[0.7777777777777778,\"#fb9f3a\"],[0.8888888888888888,\"#fdca26\"],[1.0,\"#f0f921\"]],\"type\":\"heatmapgl\"}],\"histogram\":[{\"marker\":{\"pattern\":{\"fillmode\":\"overlay\",\"size\":10,\"solidity\":0.2}},\"type\":\"histogram\"}],\"histogram2d\":[{\"colorbar\":{\"outlinewidth\":0,\"ticks\":\"\"},\"colorscale\":[[0.0,\"#0d0887\"],[0.1111111111111111,\"#46039f\"],[0.2222222222222222,\"#7201a8\"],[0.3333333333333333,\"#9c179e\"],[0.4444444444444444,\"#bd3786\"],[0.5555555555555556,\"#d8576b\"],[0.6666666666666666,\"#ed7953\"],[0.7777777777777778,\"#fb9f3a\"],[0.8888888888888888,\"#fdca26\"],[1.0,\"#f0f921\"]],\"type\":\"histogram2d\"}],\"histogram2dcontour\":[{\"colorbar\":{\"outlinewidth\":0,\"ticks\":\"\"},\"colorscale\":[[0.0,\"#0d0887\"],[0.1111111111111111,\"#46039f\"],[0.2222222222222222,\"#7201a8\"],[0.3333333333333333,\"#9c179e\"],[0.4444444444444444,\"#bd3786\"],[0.5555555555555556,\"#d8576b\"],[0.6666666666666666,\"#ed7953\"],[0.7777777777777778,\"#fb9f3a\"],[0.8888888888888888,\"#fdca26\"],[1.0,\"#f0f921\"]],\"type\":\"histogram2dcontour\"}],\"mesh3d\":[{\"colorbar\":{\"outlinewidth\":0,\"ticks\":\"\"},\"type\":\"mesh3d\"}],\"parcoords\":[{\"line\":{\"colorbar\":{\"outlinewidth\":0,\"ticks\":\"\"}},\"type\":\"parcoords\"}],\"pie\":[{\"automargin\":true,\"type\":\"pie\"}],\"scatter\":[{\"marker\":{\"colorbar\":{\"outlinewidth\":0,\"ticks\":\"\"}},\"type\":\"scatter\"}],\"scatter3d\":[{\"line\":{\"colorbar\":{\"outlinewidth\":0,\"ticks\":\"\"}},\"marker\":{\"colorbar\":{\"outlinewidth\":0,\"ticks\":\"\"}},\"type\":\"scatter3d\"}],\"scattercarpet\":[{\"marker\":{\"colorbar\":{\"outlinewidth\":0,\"ticks\":\"\"}},\"type\":\"scattercarpet\"}],\"scattergeo\":[{\"marker\":{\"colorbar\":{\"outlinewidth\":0,\"ticks\":\"\"}},\"type\":\"scattergeo\"}],\"scattergl\":[{\"marker\":{\"colorbar\":{\"outlinewidth\":0,\"ticks\":\"\"}},\"type\":\"scattergl\"}],\"scattermapbox\":[{\"marker\":{\"colorbar\":{\"outlinewidth\":0,\"ticks\":\"\"}},\"type\":\"scattermapbox\"}],\"scatterpolar\":[{\"marker\":{\"colorbar\":{\"outlinewidth\":0,\"ticks\":\"\"}},\"type\":\"scatterpolar\"}],\"scatterpolargl\":[{\"marker\":{\"colorbar\":{\"outlinewidth\":0,\"ticks\":\"\"}},\"type\":\"scatterpolargl\"}],\"scatterternary\":[{\"marker\":{\"colorbar\":{\"outlinewidth\":0,\"ticks\":\"\"}},\"type\":\"scatterternary\"}],\"surface\":[{\"colorbar\":{\"outlinewidth\":0,\"ticks\":\"\"},\"colorscale\":[[0.0,\"#0d0887\"],[0.1111111111111111,\"#46039f\"],[0.2222222222222222,\"#7201a8\"],[0.3333333333333333,\"#9c179e\"],[0.4444444444444444,\"#bd3786\"],[0.5555555555555556,\"#d8576b\"],[0.6666666666666666,\"#ed7953\"],[0.7777777777777778,\"#fb9f3a\"],[0.8888888888888888,\"#fdca26\"],[1.0,\"#f0f921\"]],\"type\":\"surface\"}],\"table\":[{\"cells\":{\"fill\":{\"color\":\"#EBF0F8\"},\"line\":{\"color\":\"white\"}},\"header\":{\"fill\":{\"color\":\"#C8D4E3\"},\"line\":{\"color\":\"white\"}},\"type\":\"table\"}]},\"layout\":{\"annotationdefaults\":{\"arrowcolor\":\"#2a3f5f\",\"arrowhead\":0,\"arrowwidth\":1},\"autotypenumbers\":\"strict\",\"coloraxis\":{\"colorbar\":{\"outlinewidth\":0,\"ticks\":\"\"}},\"colorscale\":{\"diverging\":[[0,\"#8e0152\"],[0.1,\"#c51b7d\"],[0.2,\"#de77ae\"],[0.3,\"#f1b6da\"],[0.4,\"#fde0ef\"],[0.5,\"#f7f7f7\"],[0.6,\"#e6f5d0\"],[0.7,\"#b8e186\"],[0.8,\"#7fbc41\"],[0.9,\"#4d9221\"],[1,\"#276419\"]],\"sequential\":[[0.0,\"#0d0887\"],[0.1111111111111111,\"#46039f\"],[0.2222222222222222,\"#7201a8\"],[0.3333333333333333,\"#9c179e\"],[0.4444444444444444,\"#bd3786\"],[0.5555555555555556,\"#d8576b\"],[0.6666666666666666,\"#ed7953\"],[0.7777777777777778,\"#fb9f3a\"],[0.8888888888888888,\"#fdca26\"],[1.0,\"#f0f921\"]],\"sequentialminus\":[[0.0,\"#0d0887\"],[0.1111111111111111,\"#46039f\"],[0.2222222222222222,\"#7201a8\"],[0.3333333333333333,\"#9c179e\"],[0.4444444444444444,\"#bd3786\"],[0.5555555555555556,\"#d8576b\"],[0.6666666666666666,\"#ed7953\"],[0.7777777777777778,\"#fb9f3a\"],[0.8888888888888888,\"#fdca26\"],[1.0,\"#f0f921\"]]},\"colorway\":[\"#636efa\",\"#EF553B\",\"#00cc96\",\"#ab63fa\",\"#FFA15A\",\"#19d3f3\",\"#FF6692\",\"#B6E880\",\"#FF97FF\",\"#FECB52\"],\"font\":{\"color\":\"#2a3f5f\"},\"geo\":{\"bgcolor\":\"white\",\"lakecolor\":\"white\",\"landcolor\":\"#E5ECF6\",\"showlakes\":true,\"showland\":true,\"subunitcolor\":\"white\"},\"hoverlabel\":{\"align\":\"left\"},\"hovermode\":\"closest\",\"mapbox\":{\"style\":\"light\"},\"paper_bgcolor\":\"white\",\"plot_bgcolor\":\"#E5ECF6\",\"polar\":{\"angularaxis\":{\"gridcolor\":\"white\",\"linecolor\":\"white\",\"ticks\":\"\"},\"bgcolor\":\"#E5ECF6\",\"radialaxis\":{\"gridcolor\":\"white\",\"linecolor\":\"white\",\"ticks\":\"\"}},\"scene\":{\"xaxis\":{\"backgroundcolor\":\"#E5ECF6\",\"gridcolor\":\"white\",\"gridwidth\":2,\"linecolor\":\"white\",\"showbackground\":true,\"ticks\":\"\",\"zerolinecolor\":\"white\"},\"yaxis\":{\"backgroundcolor\":\"#E5ECF6\",\"gridcolor\":\"white\",\"gridwidth\":2,\"linecolor\":\"white\",\"showbackground\":true,\"ticks\":\"\",\"zerolinecolor\":\"white\"},\"zaxis\":{\"backgroundcolor\":\"#E5ECF6\",\"gridcolor\":\"white\",\"gridwidth\":2,\"linecolor\":\"white\",\"showbackground\":true,\"ticks\":\"\",\"zerolinecolor\":\"white\"}},\"shapedefaults\":{\"line\":{\"color\":\"#2a3f5f\"}},\"ternary\":{\"aaxis\":{\"gridcolor\":\"white\",\"linecolor\":\"white\",\"ticks\":\"\"},\"baxis\":{\"gridcolor\":\"white\",\"linecolor\":\"white\",\"ticks\":\"\"},\"bgcolor\":\"#E5ECF6\",\"caxis\":{\"gridcolor\":\"white\",\"linecolor\":\"white\",\"ticks\":\"\"}},\"title\":{\"x\":0.05},\"xaxis\":{\"automargin\":true,\"gridcolor\":\"white\",\"linecolor\":\"white\",\"ticks\":\"\",\"title\":{\"standoff\":15},\"zerolinecolor\":\"white\",\"zerolinewidth\":2},\"yaxis\":{\"automargin\":true,\"gridcolor\":\"white\",\"linecolor\":\"white\",\"ticks\":\"\",\"title\":{\"standoff\":15},\"zerolinecolor\":\"white\",\"zerolinewidth\":2}}},\"xaxis\":{\"anchor\":\"y\",\"domain\":[0.0,1.0],\"title\":{\"text\":\"chap_id\"}},\"yaxis\":{\"anchor\":\"x\",\"domain\":[0.0,1.0],\"title\":{\"text\":\"value\"}},\"legend\":{\"title\":{\"text\":\"emo\"},\"tracegroupgap\":0},\"margin\":{\"t\":60}},                        {\"responsive\": true}                    ).then(function(){\n",
       "                            \n",
       "var gd = document.getElementById('2016693f-657c-47bf-85d8-aa5e04413297');\n",
       "var x = new MutationObserver(function (mutations, observer) {{\n",
       "        var display = window.getComputedStyle(gd).display;\n",
       "        if (!display || display === 'none') {{\n",
       "            console.log([gd, 'removed!']);\n",
       "            Plotly.purge(gd);\n",
       "            observer.disconnect();\n",
       "        }}\n",
       "}});\n",
       "\n",
       "// Listen for the removal of the full notebook cells\n",
       "var notebookContainer = gd.closest('#notebook-container');\n",
       "if (notebookContainer) {{\n",
       "    x.observe(notebookContainer, {childList: true});\n",
       "}}\n",
       "\n",
       "// Listen for the clearing of the current output cell\n",
       "var outputEl = gd.closest('.output');\n",
       "if (outputEl) {{\n",
       "    x.observe(outputEl, {childList: true});\n",
       "}}\n",
       "\n",
       "                        })                };                });            </script>        </div>"
      ]
     },
     "metadata": {},
     "output_type": "display_data"
    }
   ],
   "source": [
    "px.line(MYSTERIOUS_chaps_thin, x='chap_id', y='value', color='emo')"
   ]
  },
  {
   "cell_type": "code",
   "execution_count": 79,
   "id": "28134fa4-7d45-4207-b900-da9b2a3cad8c",
   "metadata": {},
   "outputs": [
    {
     "data": {
      "application/vnd.plotly.v1+json": {
       "config": {
        "plotlyServerURL": "https://plot.ly"
       },
       "data": [
        {
         "hovertemplate": "emo=anger<br>chap_id=%{x}<br>value=%{y}<extra></extra>",
         "legendgroup": "anger",
         "line": {
          "color": "#636efa",
          "dash": "solid"
         },
         "marker": {
          "symbol": "circle"
         },
         "mode": "lines",
         "name": "anger",
         "orientation": "v",
         "showlegend": true,
         "type": "scatter",
         "x": [
          1,
          2,
          3,
          4,
          5,
          6,
          7,
          8,
          9,
          10,
          11
         ],
         "xaxis": "x",
         "y": [
          0.00017394610978625882,
          0.00015345732076876576,
          0.0001800239344439981,
          0.0001646899829181904,
          0.00018442741077602203,
          0.00015575907796870218,
          0.00018154153627768555,
          0.00022228020404454026,
          0.00015262229448589863,
          0.00019773218842407032,
          7.73531123688832e-05
         ],
         "yaxis": "y"
        },
        {
         "hovertemplate": "emo=anticipation<br>chap_id=%{x}<br>value=%{y}<extra></extra>",
         "legendgroup": "anticipation",
         "line": {
          "color": "#EF553B",
          "dash": "solid"
         },
         "marker": {
          "symbol": "circle"
         },
         "mode": "lines",
         "name": "anticipation",
         "orientation": "v",
         "showlegend": true,
         "type": "scatter",
         "x": [
          1,
          2,
          3,
          4,
          5,
          6,
          7,
          8,
          9,
          10,
          11
         ],
         "xaxis": "x",
         "y": [
          0.00013394705072691273,
          0.00010886990132883785,
          0.00017307249940007378,
          0.00017122807304577355,
          0.00013985494180398955,
          0.00017632603995899177,
          0.00010410471100526616,
          9.506422345013644e-05,
          0.00019370438611960512,
          0.00011145212348990705,
          8.343252864303895e-05
         ],
         "yaxis": "y"
        },
        {
         "hovertemplate": "emo=disgust<br>chap_id=%{x}<br>value=%{y}<extra></extra>",
         "legendgroup": "disgust",
         "line": {
          "color": "#00cc96",
          "dash": "solid"
         },
         "marker": {
          "symbol": "circle"
         },
         "mode": "lines",
         "name": "disgust",
         "orientation": "v",
         "showlegend": true,
         "type": "scatter",
         "x": [
          1,
          2,
          3,
          4,
          5,
          6,
          7,
          8,
          9,
          10,
          11
         ],
         "xaxis": "x",
         "y": [
          0.00011581583482711838,
          0.00010648267922718716,
          0.00011861619390289196,
          0.00011320967980137789,
          0.00014204296527244405,
          9.04431739696509e-05,
          0.0001316216826712952,
          0.00016777893726793898,
          0.00013865246849861164,
          0.00014081974957866848,
          5.954130244375497e-05
         ],
         "yaxis": "y"
        },
        {
         "hovertemplate": "emo=fear<br>chap_id=%{x}<br>value=%{y}<extra></extra>",
         "legendgroup": "fear",
         "line": {
          "color": "#ab63fa",
          "dash": "solid"
         },
         "marker": {
          "symbol": "circle"
         },
         "mode": "lines",
         "name": "fear",
         "orientation": "v",
         "showlegend": true,
         "type": "scatter",
         "x": [
          1,
          2,
          3,
          4,
          5,
          6,
          7,
          8,
          9,
          10,
          11
         ],
         "xaxis": "x",
         "y": [
          0.00020584948586210508,
          0.00020461975162083113,
          0.0002011714042710033,
          0.0001897011153563202,
          0.00022823409909711754,
          0.0001873776678998229,
          0.00030327675939492016,
          0.0002662891709248212,
          0.0002198589816008795,
          0.00026505178414836574,
          0.00011511219773551997
         ],
         "yaxis": "y"
        },
        {
         "hovertemplate": "emo=joy<br>chap_id=%{x}<br>value=%{y}<extra></extra>",
         "legendgroup": "joy",
         "line": {
          "color": "#FFA15A",
          "dash": "solid"
         },
         "marker": {
          "symbol": "circle"
         },
         "mode": "lines",
         "name": "joy",
         "orientation": "v",
         "showlegend": true,
         "type": "scatter",
         "x": [
          1,
          2,
          3,
          4,
          5,
          6,
          7,
          8,
          9,
          10,
          11
         ],
         "xaxis": "x",
         "y": [
          9.894185056217992e-05,
          0.00011775780810229349,
          0.0001593932443634117,
          0.00019408782823347837,
          0.0001590994211564509,
          0.00015503262834635437,
          0.0001303139241298152,
          8.803000289797206e-05,
          0.00011720407807747535,
          0.00014170419832667053,
          7.513336902115885e-05
         ],
         "yaxis": "y"
        },
        {
         "hovertemplate": "emo=sadness<br>chap_id=%{x}<br>value=%{y}<extra></extra>",
         "legendgroup": "sadness",
         "line": {
          "color": "#19d3f3",
          "dash": "solid"
         },
         "marker": {
          "symbol": "circle"
         },
         "mode": "lines",
         "name": "sadness",
         "orientation": "v",
         "showlegend": true,
         "type": "scatter",
         "x": [
          1,
          2,
          3,
          4,
          5,
          6,
          7,
          8,
          9,
          10,
          11
         ],
         "xaxis": "x",
         "y": [
          0.00017324442727776379,
          0.00015463242048258406,
          0.0001579701701746346,
          0.00017965909188137115,
          0.0001584375798332776,
          0.00016366089559991342,
          0.00021926303020716105,
          0.00020194137604745934,
          0.00019475349074317348,
          0.00020664313814047807,
          8.940682324508285e-05
         ],
         "yaxis": "y"
        },
        {
         "hovertemplate": "emo=surprise<br>chap_id=%{x}<br>value=%{y}<extra></extra>",
         "legendgroup": "surprise",
         "line": {
          "color": "#FF6692",
          "dash": "solid"
         },
         "marker": {
          "symbol": "circle"
         },
         "mode": "lines",
         "name": "surprise",
         "orientation": "v",
         "showlegend": true,
         "type": "scatter",
         "x": [
          1,
          2,
          3,
          4,
          5,
          6,
          7,
          8,
          9,
          10,
          11
         ],
         "xaxis": "x",
         "y": [
          7.402331065804445e-05,
          6.111210617976742e-05,
          7.986142012121025e-05,
          8.653584096288029e-05,
          9.24440297677888e-05,
          0.00010990912984946248,
          0.0001303560902641354,
          9.764497130482966e-05,
          0.00010053529482484,
          9.162170038972394e-05,
          5.1875506705765875e-05
         ],
         "yaxis": "y"
        },
        {
         "hovertemplate": "emo=trust<br>chap_id=%{x}<br>value=%{y}<extra></extra>",
         "legendgroup": "trust",
         "line": {
          "color": "#B6E880",
          "dash": "solid"
         },
         "marker": {
          "symbol": "circle"
         },
         "mode": "lines",
         "name": "trust",
         "orientation": "v",
         "showlegend": true,
         "type": "scatter",
         "x": [
          1,
          2,
          3,
          4,
          5,
          6,
          7,
          8,
          9,
          10,
          11
         ],
         "xaxis": "x",
         "y": [
          0.0002340834201121745,
          0.00019271597579831597,
          0.00017367354846316383,
          0.0002644380720304548,
          0.00017281799993936207,
          0.00021559624109817804,
          0.00021818927224653202,
          0.0001857750053012242,
          0.00025723843668571956,
          0.00022533956618385226,
          0.00011836958489005878
         ],
         "yaxis": "y"
        },
        {
         "hovertemplate": "emo=sentiment<br>chap_id=%{x}<br>value=%{y}<extra></extra>",
         "legendgroup": "sentiment",
         "line": {
          "color": "#FF97FF",
          "dash": "solid"
         },
         "marker": {
          "symbol": "circle"
         },
         "mode": "lines",
         "name": "sentiment",
         "orientation": "v",
         "showlegend": true,
         "type": "scatter",
         "x": [
          1,
          2,
          3,
          4,
          5,
          6,
          7,
          8,
          9,
          10,
          11
         ],
         "xaxis": "x",
         "y": [
          -5.970179302697813e-05,
          -7.20160761397816e-05,
          -6.031853303638358e-05,
          6.14527603237928e-05,
          -7.748115982935507e-05,
          -1.1528729186559614e-07,
          -0.00011190117731676366,
          -0.00018212869335262752,
          6.952839677056746e-06,
          -5.9826803756539995e-05,
          -8.528378424231152e-06
         ],
         "yaxis": "y"
        }
       ],
       "layout": {
        "autosize": true,
        "legend": {
         "title": {
          "text": "emo"
         },
         "tracegroupgap": 0
        },
        "margin": {
         "t": 60
        },
        "template": {
         "data": {
          "bar": [
           {
            "error_x": {
             "color": "#2a3f5f"
            },
            "error_y": {
             "color": "#2a3f5f"
            },
            "marker": {
             "line": {
              "color": "#E5ECF6",
              "width": 0.5
             },
             "pattern": {
              "fillmode": "overlay",
              "size": 10,
              "solidity": 0.2
             }
            },
            "type": "bar"
           }
          ],
          "barpolar": [
           {
            "marker": {
             "line": {
              "color": "#E5ECF6",
              "width": 0.5
             },
             "pattern": {
              "fillmode": "overlay",
              "size": 10,
              "solidity": 0.2
             }
            },
            "type": "barpolar"
           }
          ],
          "carpet": [
           {
            "aaxis": {
             "endlinecolor": "#2a3f5f",
             "gridcolor": "white",
             "linecolor": "white",
             "minorgridcolor": "white",
             "startlinecolor": "#2a3f5f"
            },
            "baxis": {
             "endlinecolor": "#2a3f5f",
             "gridcolor": "white",
             "linecolor": "white",
             "minorgridcolor": "white",
             "startlinecolor": "#2a3f5f"
            },
            "type": "carpet"
           }
          ],
          "choropleth": [
           {
            "colorbar": {
             "outlinewidth": 0,
             "ticks": ""
            },
            "type": "choropleth"
           }
          ],
          "contour": [
           {
            "colorbar": {
             "outlinewidth": 0,
             "ticks": ""
            },
            "colorscale": [
             [
              0,
              "#0d0887"
             ],
             [
              0.1111111111111111,
              "#46039f"
             ],
             [
              0.2222222222222222,
              "#7201a8"
             ],
             [
              0.3333333333333333,
              "#9c179e"
             ],
             [
              0.4444444444444444,
              "#bd3786"
             ],
             [
              0.5555555555555556,
              "#d8576b"
             ],
             [
              0.6666666666666666,
              "#ed7953"
             ],
             [
              0.7777777777777778,
              "#fb9f3a"
             ],
             [
              0.8888888888888888,
              "#fdca26"
             ],
             [
              1,
              "#f0f921"
             ]
            ],
            "type": "contour"
           }
          ],
          "contourcarpet": [
           {
            "colorbar": {
             "outlinewidth": 0,
             "ticks": ""
            },
            "type": "contourcarpet"
           }
          ],
          "heatmap": [
           {
            "colorbar": {
             "outlinewidth": 0,
             "ticks": ""
            },
            "colorscale": [
             [
              0,
              "#0d0887"
             ],
             [
              0.1111111111111111,
              "#46039f"
             ],
             [
              0.2222222222222222,
              "#7201a8"
             ],
             [
              0.3333333333333333,
              "#9c179e"
             ],
             [
              0.4444444444444444,
              "#bd3786"
             ],
             [
              0.5555555555555556,
              "#d8576b"
             ],
             [
              0.6666666666666666,
              "#ed7953"
             ],
             [
              0.7777777777777778,
              "#fb9f3a"
             ],
             [
              0.8888888888888888,
              "#fdca26"
             ],
             [
              1,
              "#f0f921"
             ]
            ],
            "type": "heatmap"
           }
          ],
          "heatmapgl": [
           {
            "colorbar": {
             "outlinewidth": 0,
             "ticks": ""
            },
            "colorscale": [
             [
              0,
              "#0d0887"
             ],
             [
              0.1111111111111111,
              "#46039f"
             ],
             [
              0.2222222222222222,
              "#7201a8"
             ],
             [
              0.3333333333333333,
              "#9c179e"
             ],
             [
              0.4444444444444444,
              "#bd3786"
             ],
             [
              0.5555555555555556,
              "#d8576b"
             ],
             [
              0.6666666666666666,
              "#ed7953"
             ],
             [
              0.7777777777777778,
              "#fb9f3a"
             ],
             [
              0.8888888888888888,
              "#fdca26"
             ],
             [
              1,
              "#f0f921"
             ]
            ],
            "type": "heatmapgl"
           }
          ],
          "histogram": [
           {
            "marker": {
             "pattern": {
              "fillmode": "overlay",
              "size": 10,
              "solidity": 0.2
             }
            },
            "type": "histogram"
           }
          ],
          "histogram2d": [
           {
            "colorbar": {
             "outlinewidth": 0,
             "ticks": ""
            },
            "colorscale": [
             [
              0,
              "#0d0887"
             ],
             [
              0.1111111111111111,
              "#46039f"
             ],
             [
              0.2222222222222222,
              "#7201a8"
             ],
             [
              0.3333333333333333,
              "#9c179e"
             ],
             [
              0.4444444444444444,
              "#bd3786"
             ],
             [
              0.5555555555555556,
              "#d8576b"
             ],
             [
              0.6666666666666666,
              "#ed7953"
             ],
             [
              0.7777777777777778,
              "#fb9f3a"
             ],
             [
              0.8888888888888888,
              "#fdca26"
             ],
             [
              1,
              "#f0f921"
             ]
            ],
            "type": "histogram2d"
           }
          ],
          "histogram2dcontour": [
           {
            "colorbar": {
             "outlinewidth": 0,
             "ticks": ""
            },
            "colorscale": [
             [
              0,
              "#0d0887"
             ],
             [
              0.1111111111111111,
              "#46039f"
             ],
             [
              0.2222222222222222,
              "#7201a8"
             ],
             [
              0.3333333333333333,
              "#9c179e"
             ],
             [
              0.4444444444444444,
              "#bd3786"
             ],
             [
              0.5555555555555556,
              "#d8576b"
             ],
             [
              0.6666666666666666,
              "#ed7953"
             ],
             [
              0.7777777777777778,
              "#fb9f3a"
             ],
             [
              0.8888888888888888,
              "#fdca26"
             ],
             [
              1,
              "#f0f921"
             ]
            ],
            "type": "histogram2dcontour"
           }
          ],
          "mesh3d": [
           {
            "colorbar": {
             "outlinewidth": 0,
             "ticks": ""
            },
            "type": "mesh3d"
           }
          ],
          "parcoords": [
           {
            "line": {
             "colorbar": {
              "outlinewidth": 0,
              "ticks": ""
             }
            },
            "type": "parcoords"
           }
          ],
          "pie": [
           {
            "automargin": true,
            "type": "pie"
           }
          ],
          "scatter": [
           {
            "marker": {
             "colorbar": {
              "outlinewidth": 0,
              "ticks": ""
             }
            },
            "type": "scatter"
           }
          ],
          "scatter3d": [
           {
            "line": {
             "colorbar": {
              "outlinewidth": 0,
              "ticks": ""
             }
            },
            "marker": {
             "colorbar": {
              "outlinewidth": 0,
              "ticks": ""
             }
            },
            "type": "scatter3d"
           }
          ],
          "scattercarpet": [
           {
            "marker": {
             "colorbar": {
              "outlinewidth": 0,
              "ticks": ""
             }
            },
            "type": "scattercarpet"
           }
          ],
          "scattergeo": [
           {
            "marker": {
             "colorbar": {
              "outlinewidth": 0,
              "ticks": ""
             }
            },
            "type": "scattergeo"
           }
          ],
          "scattergl": [
           {
            "marker": {
             "colorbar": {
              "outlinewidth": 0,
              "ticks": ""
             }
            },
            "type": "scattergl"
           }
          ],
          "scattermapbox": [
           {
            "marker": {
             "colorbar": {
              "outlinewidth": 0,
              "ticks": ""
             }
            },
            "type": "scattermapbox"
           }
          ],
          "scatterpolar": [
           {
            "marker": {
             "colorbar": {
              "outlinewidth": 0,
              "ticks": ""
             }
            },
            "type": "scatterpolar"
           }
          ],
          "scatterpolargl": [
           {
            "marker": {
             "colorbar": {
              "outlinewidth": 0,
              "ticks": ""
             }
            },
            "type": "scatterpolargl"
           }
          ],
          "scatterternary": [
           {
            "marker": {
             "colorbar": {
              "outlinewidth": 0,
              "ticks": ""
             }
            },
            "type": "scatterternary"
           }
          ],
          "surface": [
           {
            "colorbar": {
             "outlinewidth": 0,
             "ticks": ""
            },
            "colorscale": [
             [
              0,
              "#0d0887"
             ],
             [
              0.1111111111111111,
              "#46039f"
             ],
             [
              0.2222222222222222,
              "#7201a8"
             ],
             [
              0.3333333333333333,
              "#9c179e"
             ],
             [
              0.4444444444444444,
              "#bd3786"
             ],
             [
              0.5555555555555556,
              "#d8576b"
             ],
             [
              0.6666666666666666,
              "#ed7953"
             ],
             [
              0.7777777777777778,
              "#fb9f3a"
             ],
             [
              0.8888888888888888,
              "#fdca26"
             ],
             [
              1,
              "#f0f921"
             ]
            ],
            "type": "surface"
           }
          ],
          "table": [
           {
            "cells": {
             "fill": {
              "color": "#EBF0F8"
             },
             "line": {
              "color": "white"
             }
            },
            "header": {
             "fill": {
              "color": "#C8D4E3"
             },
             "line": {
              "color": "white"
             }
            },
            "type": "table"
           }
          ]
         },
         "layout": {
          "annotationdefaults": {
           "arrowcolor": "#2a3f5f",
           "arrowhead": 0,
           "arrowwidth": 1
          },
          "autotypenumbers": "strict",
          "coloraxis": {
           "colorbar": {
            "outlinewidth": 0,
            "ticks": ""
           }
          },
          "colorscale": {
           "diverging": [
            [
             0,
             "#8e0152"
            ],
            [
             0.1,
             "#c51b7d"
            ],
            [
             0.2,
             "#de77ae"
            ],
            [
             0.3,
             "#f1b6da"
            ],
            [
             0.4,
             "#fde0ef"
            ],
            [
             0.5,
             "#f7f7f7"
            ],
            [
             0.6,
             "#e6f5d0"
            ],
            [
             0.7,
             "#b8e186"
            ],
            [
             0.8,
             "#7fbc41"
            ],
            [
             0.9,
             "#4d9221"
            ],
            [
             1,
             "#276419"
            ]
           ],
           "sequential": [
            [
             0,
             "#0d0887"
            ],
            [
             0.1111111111111111,
             "#46039f"
            ],
            [
             0.2222222222222222,
             "#7201a8"
            ],
            [
             0.3333333333333333,
             "#9c179e"
            ],
            [
             0.4444444444444444,
             "#bd3786"
            ],
            [
             0.5555555555555556,
             "#d8576b"
            ],
            [
             0.6666666666666666,
             "#ed7953"
            ],
            [
             0.7777777777777778,
             "#fb9f3a"
            ],
            [
             0.8888888888888888,
             "#fdca26"
            ],
            [
             1,
             "#f0f921"
            ]
           ],
           "sequentialminus": [
            [
             0,
             "#0d0887"
            ],
            [
             0.1111111111111111,
             "#46039f"
            ],
            [
             0.2222222222222222,
             "#7201a8"
            ],
            [
             0.3333333333333333,
             "#9c179e"
            ],
            [
             0.4444444444444444,
             "#bd3786"
            ],
            [
             0.5555555555555556,
             "#d8576b"
            ],
            [
             0.6666666666666666,
             "#ed7953"
            ],
            [
             0.7777777777777778,
             "#fb9f3a"
            ],
            [
             0.8888888888888888,
             "#fdca26"
            ],
            [
             1,
             "#f0f921"
            ]
           ]
          },
          "colorway": [
           "#636efa",
           "#EF553B",
           "#00cc96",
           "#ab63fa",
           "#FFA15A",
           "#19d3f3",
           "#FF6692",
           "#B6E880",
           "#FF97FF",
           "#FECB52"
          ],
          "font": {
           "color": "#2a3f5f"
          },
          "geo": {
           "bgcolor": "white",
           "lakecolor": "white",
           "landcolor": "#E5ECF6",
           "showlakes": true,
           "showland": true,
           "subunitcolor": "white"
          },
          "hoverlabel": {
           "align": "left"
          },
          "hovermode": "closest",
          "mapbox": {
           "style": "light"
          },
          "paper_bgcolor": "white",
          "plot_bgcolor": "#E5ECF6",
          "polar": {
           "angularaxis": {
            "gridcolor": "white",
            "linecolor": "white",
            "ticks": ""
           },
           "bgcolor": "#E5ECF6",
           "radialaxis": {
            "gridcolor": "white",
            "linecolor": "white",
            "ticks": ""
           }
          },
          "scene": {
           "xaxis": {
            "backgroundcolor": "#E5ECF6",
            "gridcolor": "white",
            "gridwidth": 2,
            "linecolor": "white",
            "showbackground": true,
            "ticks": "",
            "zerolinecolor": "white"
           },
           "yaxis": {
            "backgroundcolor": "#E5ECF6",
            "gridcolor": "white",
            "gridwidth": 2,
            "linecolor": "white",
            "showbackground": true,
            "ticks": "",
            "zerolinecolor": "white"
           },
           "zaxis": {
            "backgroundcolor": "#E5ECF6",
            "gridcolor": "white",
            "gridwidth": 2,
            "linecolor": "white",
            "showbackground": true,
            "ticks": "",
            "zerolinecolor": "white"
           }
          },
          "shapedefaults": {
           "line": {
            "color": "#2a3f5f"
           }
          },
          "ternary": {
           "aaxis": {
            "gridcolor": "white",
            "linecolor": "white",
            "ticks": ""
           },
           "baxis": {
            "gridcolor": "white",
            "linecolor": "white",
            "ticks": ""
           },
           "bgcolor": "#E5ECF6",
           "caxis": {
            "gridcolor": "white",
            "linecolor": "white",
            "ticks": ""
           }
          },
          "title": {
           "x": 0.05
          },
          "xaxis": {
           "automargin": true,
           "gridcolor": "white",
           "linecolor": "white",
           "ticks": "",
           "title": {
            "standoff": 15
           },
           "zerolinecolor": "white",
           "zerolinewidth": 2
          },
          "yaxis": {
           "automargin": true,
           "gridcolor": "white",
           "linecolor": "white",
           "ticks": "",
           "title": {
            "standoff": 15
           },
           "zerolinecolor": "white",
           "zerolinewidth": 2
          }
         }
        },
        "xaxis": {
         "anchor": "y",
         "autorange": true,
         "domain": [
          0,
          1
         ],
         "range": [
          1,
          11
         ],
         "title": {
          "text": "chap_id"
         },
         "type": "linear"
        },
        "yaxis": {
         "anchor": "x",
         "autorange": true,
         "domain": [
          0,
          1
         ],
         "range": [
          -0.0002090956629497135,
          0.0003302437289920061
         ],
         "title": {
          "text": "value"
         },
         "type": "linear"
        }
       }
      },
      "image/png": "[encoded data removed]",
      "text/html": [
       "<div>                            <div id=\"396f1362-b47f-4ea7-88b9-e960af7114a9\" class=\"plotly-graph-div\" style=\"height:525px; width:100%;\"></div>            <script type=\"text/javascript\">                require([\"plotly\"], function(Plotly) {                    window.PLOTLYENV=window.PLOTLYENV || {};                                    if (document.getElementById(\"396f1362-b47f-4ea7-88b9-e960af7114a9\")) {                    Plotly.newPlot(                        \"396f1362-b47f-4ea7-88b9-e960af7114a9\",                        [{\"hovertemplate\":\"emo=anger<br>chap_id=%{x}<br>value=%{y}<extra></extra>\",\"legendgroup\":\"anger\",\"line\":{\"color\":\"#636efa\",\"dash\":\"solid\"},\"marker\":{\"symbol\":\"circle\"},\"mode\":\"lines\",\"name\":\"anger\",\"orientation\":\"v\",\"showlegend\":true,\"x\":[1,2,3,4,5,6,7,8,9,10,11],\"xaxis\":\"x\",\"y\":[0.00017394610978625882,0.00015345732076876576,0.0001800239344439981,0.0001646899829181904,0.00018442741077602203,0.00015575907796870218,0.00018154153627768555,0.00022228020404454026,0.00015262229448589863,0.00019773218842407032,7.73531123688832e-05],\"yaxis\":\"y\",\"type\":\"scatter\"},{\"hovertemplate\":\"emo=anticipation<br>chap_id=%{x}<br>value=%{y}<extra></extra>\",\"legendgroup\":\"anticipation\",\"line\":{\"color\":\"#EF553B\",\"dash\":\"solid\"},\"marker\":{\"symbol\":\"circle\"},\"mode\":\"lines\",\"name\":\"anticipation\",\"orientation\":\"v\",\"showlegend\":true,\"x\":[1,2,3,4,5,6,7,8,9,10,11],\"xaxis\":\"x\",\"y\":[0.00013394705072691273,0.00010886990132883785,0.00017307249940007378,0.00017122807304577355,0.00013985494180398955,0.00017632603995899177,0.00010410471100526616,9.506422345013644e-05,0.00019370438611960512,0.00011145212348990705,8.343252864303895e-05],\"yaxis\":\"y\",\"type\":\"scatter\"},{\"hovertemplate\":\"emo=disgust<br>chap_id=%{x}<br>value=%{y}<extra></extra>\",\"legendgroup\":\"disgust\",\"line\":{\"color\":\"#00cc96\",\"dash\":\"solid\"},\"marker\":{\"symbol\":\"circle\"},\"mode\":\"lines\",\"name\":\"disgust\",\"orientation\":\"v\",\"showlegend\":true,\"x\":[1,2,3,4,5,6,7,8,9,10,11],\"xaxis\":\"x\",\"y\":[0.00011581583482711838,0.00010648267922718716,0.00011861619390289196,0.00011320967980137789,0.00014204296527244405,9.04431739696509e-05,0.0001316216826712952,0.00016777893726793898,0.00013865246849861164,0.00014081974957866848,5.954130244375497e-05],\"yaxis\":\"y\",\"type\":\"scatter\"},{\"hovertemplate\":\"emo=fear<br>chap_id=%{x}<br>value=%{y}<extra></extra>\",\"legendgroup\":\"fear\",\"line\":{\"color\":\"#ab63fa\",\"dash\":\"solid\"},\"marker\":{\"symbol\":\"circle\"},\"mode\":\"lines\",\"name\":\"fear\",\"orientation\":\"v\",\"showlegend\":true,\"x\":[1,2,3,4,5,6,7,8,9,10,11],\"xaxis\":\"x\",\"y\":[0.00020584948586210508,0.00020461975162083113,0.0002011714042710033,0.0001897011153563202,0.00022823409909711754,0.0001873776678998229,0.00030327675939492016,0.0002662891709248212,0.0002198589816008795,0.00026505178414836574,0.00011511219773551997],\"yaxis\":\"y\",\"type\":\"scatter\"},{\"hovertemplate\":\"emo=joy<br>chap_id=%{x}<br>value=%{y}<extra></extra>\",\"legendgroup\":\"joy\",\"line\":{\"color\":\"#FFA15A\",\"dash\":\"solid\"},\"marker\":{\"symbol\":\"circle\"},\"mode\":\"lines\",\"name\":\"joy\",\"orientation\":\"v\",\"showlegend\":true,\"x\":[1,2,3,4,5,6,7,8,9,10,11],\"xaxis\":\"x\",\"y\":[9.894185056217992e-05,0.00011775780810229349,0.0001593932443634117,0.00019408782823347837,0.0001590994211564509,0.00015503262834635437,0.0001303139241298152,8.803000289797206e-05,0.00011720407807747535,0.00014170419832667053,7.513336902115885e-05],\"yaxis\":\"y\",\"type\":\"scatter\"},{\"hovertemplate\":\"emo=sadness<br>chap_id=%{x}<br>value=%{y}<extra></extra>\",\"legendgroup\":\"sadness\",\"line\":{\"color\":\"#19d3f3\",\"dash\":\"solid\"},\"marker\":{\"symbol\":\"circle\"},\"mode\":\"lines\",\"name\":\"sadness\",\"orientation\":\"v\",\"showlegend\":true,\"x\":[1,2,3,4,5,6,7,8,9,10,11],\"xaxis\":\"x\",\"y\":[0.00017324442727776379,0.00015463242048258406,0.0001579701701746346,0.00017965909188137115,0.0001584375798332776,0.00016366089559991342,0.00021926303020716105,0.00020194137604745934,0.00019475349074317348,0.00020664313814047807,8.940682324508285e-05],\"yaxis\":\"y\",\"type\":\"scatter\"},{\"hovertemplate\":\"emo=surprise<br>chap_id=%{x}<br>value=%{y}<extra></extra>\",\"legendgroup\":\"surprise\",\"line\":{\"color\":\"#FF6692\",\"dash\":\"solid\"},\"marker\":{\"symbol\":\"circle\"},\"mode\":\"lines\",\"name\":\"surprise\",\"orientation\":\"v\",\"showlegend\":true,\"x\":[1,2,3,4,5,6,7,8,9,10,11],\"xaxis\":\"x\",\"y\":[7.402331065804445e-05,6.111210617976742e-05,7.986142012121025e-05,8.653584096288029e-05,9.24440297677888e-05,0.00010990912984946248,0.0001303560902641354,9.764497130482966e-05,0.00010053529482484,9.162170038972394e-05,5.1875506705765875e-05],\"yaxis\":\"y\",\"type\":\"scatter\"},{\"hovertemplate\":\"emo=trust<br>chap_id=%{x}<br>value=%{y}<extra></extra>\",\"legendgroup\":\"trust\",\"line\":{\"color\":\"#B6E880\",\"dash\":\"solid\"},\"marker\":{\"symbol\":\"circle\"},\"mode\":\"lines\",\"name\":\"trust\",\"orientation\":\"v\",\"showlegend\":true,\"x\":[1,2,3,4,5,6,7,8,9,10,11],\"xaxis\":\"x\",\"y\":[0.0002340834201121745,0.00019271597579831597,0.00017367354846316383,0.0002644380720304548,0.00017281799993936207,0.00021559624109817804,0.00021818927224653202,0.0001857750053012242,0.00025723843668571956,0.00022533956618385226,0.00011836958489005878],\"yaxis\":\"y\",\"type\":\"scatter\"},{\"hovertemplate\":\"emo=sentiment<br>chap_id=%{x}<br>value=%{y}<extra></extra>\",\"legendgroup\":\"sentiment\",\"line\":{\"color\":\"#FF97FF\",\"dash\":\"solid\"},\"marker\":{\"symbol\":\"circle\"},\"mode\":\"lines\",\"name\":\"sentiment\",\"orientation\":\"v\",\"showlegend\":true,\"x\":[1,2,3,4,5,6,7,8,9,10,11],\"xaxis\":\"x\",\"y\":[-5.970179302697813e-05,-7.20160761397816e-05,-6.031853303638358e-05,6.14527603237928e-05,-7.748115982935507e-05,-1.1528729186559614e-07,-0.00011190117731676366,-0.00018212869335262752,6.952839677056746e-06,-5.9826803756539995e-05,-8.528378424231152e-06],\"yaxis\":\"y\",\"type\":\"scatter\"}],                        {\"template\":{\"data\":{\"bar\":[{\"error_x\":{\"color\":\"#2a3f5f\"},\"error_y\":{\"color\":\"#2a3f5f\"},\"marker\":{\"line\":{\"color\":\"#E5ECF6\",\"width\":0.5},\"pattern\":{\"fillmode\":\"overlay\",\"size\":10,\"solidity\":0.2}},\"type\":\"bar\"}],\"barpolar\":[{\"marker\":{\"line\":{\"color\":\"#E5ECF6\",\"width\":0.5},\"pattern\":{\"fillmode\":\"overlay\",\"size\":10,\"solidity\":0.2}},\"type\":\"barpolar\"}],\"carpet\":[{\"aaxis\":{\"endlinecolor\":\"#2a3f5f\",\"gridcolor\":\"white\",\"linecolor\":\"white\",\"minorgridcolor\":\"white\",\"startlinecolor\":\"#2a3f5f\"},\"baxis\":{\"endlinecolor\":\"#2a3f5f\",\"gridcolor\":\"white\",\"linecolor\":\"white\",\"minorgridcolor\":\"white\",\"startlinecolor\":\"#2a3f5f\"},\"type\":\"carpet\"}],\"choropleth\":[{\"colorbar\":{\"outlinewidth\":0,\"ticks\":\"\"},\"type\":\"choropleth\"}],\"contour\":[{\"colorbar\":{\"outlinewidth\":0,\"ticks\":\"\"},\"colorscale\":[[0.0,\"#0d0887\"],[0.1111111111111111,\"#46039f\"],[0.2222222222222222,\"#7201a8\"],[0.3333333333333333,\"#9c179e\"],[0.4444444444444444,\"#bd3786\"],[0.5555555555555556,\"#d8576b\"],[0.6666666666666666,\"#ed7953\"],[0.7777777777777778,\"#fb9f3a\"],[0.8888888888888888,\"#fdca26\"],[1.0,\"#f0f921\"]],\"type\":\"contour\"}],\"contourcarpet\":[{\"colorbar\":{\"outlinewidth\":0,\"ticks\":\"\"},\"type\":\"contourcarpet\"}],\"heatmap\":[{\"colorbar\":{\"outlinewidth\":0,\"ticks\":\"\"},\"colorscale\":[[0.0,\"#0d0887\"],[0.1111111111111111,\"#46039f\"],[0.2222222222222222,\"#7201a8\"],[0.3333333333333333,\"#9c179e\"],[0.4444444444444444,\"#bd3786\"],[0.5555555555555556,\"#d8576b\"],[0.6666666666666666,\"#ed7953\"],[0.7777777777777778,\"#fb9f3a\"],[0.8888888888888888,\"#fdca26\"],[1.0,\"#f0f921\"]],\"type\":\"heatmap\"}],\"heatmapgl\":[{\"colorbar\":{\"outlinewidth\":0,\"ticks\":\"\"},\"colorscale\":[[0.0,\"#0d0887\"],[0.1111111111111111,\"#46039f\"],[0.2222222222222222,\"#7201a8\"],[0.3333333333333333,\"#9c179e\"],[0.4444444444444444,\"#bd3786\"],[0.5555555555555556,\"#d8576b\"],[0.6666666666666666,\"#ed7953\"],[0.7777777777777778,\"#fb9f3a\"],[0.8888888888888888,\"#fdca26\"],[1.0,\"#f0f921\"]],\"type\":\"heatmapgl\"}],\"histogram\":[{\"marker\":{\"pattern\":{\"fillmode\":\"overlay\",\"size\":10,\"solidity\":0.2}},\"type\":\"histogram\"}],\"histogram2d\":[{\"colorbar\":{\"outlinewidth\":0,\"ticks\":\"\"},\"colorscale\":[[0.0,\"#0d0887\"],[0.1111111111111111,\"#46039f\"],[0.2222222222222222,\"#7201a8\"],[0.3333333333333333,\"#9c179e\"],[0.4444444444444444,\"#bd3786\"],[0.5555555555555556,\"#d8576b\"],[0.6666666666666666,\"#ed7953\"],[0.7777777777777778,\"#fb9f3a\"],[0.8888888888888888,\"#fdca26\"],[1.0,\"#f0f921\"]],\"type\":\"histogram2d\"}],\"histogram2dcontour\":[{\"colorbar\":{\"outlinewidth\":0,\"ticks\":\"\"},\"colorscale\":[[0.0,\"#0d0887\"],[0.1111111111111111,\"#46039f\"],[0.2222222222222222,\"#7201a8\"],[0.3333333333333333,\"#9c179e\"],[0.4444444444444444,\"#bd3786\"],[0.5555555555555556,\"#d8576b\"],[0.6666666666666666,\"#ed7953\"],[0.7777777777777778,\"#fb9f3a\"],[0.8888888888888888,\"#fdca26\"],[1.0,\"#f0f921\"]],\"type\":\"histogram2dcontour\"}],\"mesh3d\":[{\"colorbar\":{\"outlinewidth\":0,\"ticks\":\"\"},\"type\":\"mesh3d\"}],\"parcoords\":[{\"line\":{\"colorbar\":{\"outlinewidth\":0,\"ticks\":\"\"}},\"type\":\"parcoords\"}],\"pie\":[{\"automargin\":true,\"type\":\"pie\"}],\"scatter\":[{\"marker\":{\"colorbar\":{\"outlinewidth\":0,\"ticks\":\"\"}},\"type\":\"scatter\"}],\"scatter3d\":[{\"line\":{\"colorbar\":{\"outlinewidth\":0,\"ticks\":\"\"}},\"marker\":{\"colorbar\":{\"outlinewidth\":0,\"ticks\":\"\"}},\"type\":\"scatter3d\"}],\"scattercarpet\":[{\"marker\":{\"colorbar\":{\"outlinewidth\":0,\"ticks\":\"\"}},\"type\":\"scattercarpet\"}],\"scattergeo\":[{\"marker\":{\"colorbar\":{\"outlinewidth\":0,\"ticks\":\"\"}},\"type\":\"scattergeo\"}],\"scattergl\":[{\"marker\":{\"colorbar\":{\"outlinewidth\":0,\"ticks\":\"\"}},\"type\":\"scattergl\"}],\"scattermapbox\":[{\"marker\":{\"colorbar\":{\"outlinewidth\":0,\"ticks\":\"\"}},\"type\":\"scattermapbox\"}],\"scatterpolar\":[{\"marker\":{\"colorbar\":{\"outlinewidth\":0,\"ticks\":\"\"}},\"type\":\"scatterpolar\"}],\"scatterpolargl\":[{\"marker\":{\"colorbar\":{\"outlinewidth\":0,\"ticks\":\"\"}},\"type\":\"scatterpolargl\"}],\"scatterternary\":[{\"marker\":{\"colorbar\":{\"outlinewidth\":0,\"ticks\":\"\"}},\"type\":\"scatterternary\"}],\"surface\":[{\"colorbar\":{\"outlinewidth\":0,\"ticks\":\"\"},\"colorscale\":[[0.0,\"#0d0887\"],[0.1111111111111111,\"#46039f\"],[0.2222222222222222,\"#7201a8\"],[0.3333333333333333,\"#9c179e\"],[0.4444444444444444,\"#bd3786\"],[0.5555555555555556,\"#d8576b\"],[0.6666666666666666,\"#ed7953\"],[0.7777777777777778,\"#fb9f3a\"],[0.8888888888888888,\"#fdca26\"],[1.0,\"#f0f921\"]],\"type\":\"surface\"}],\"table\":[{\"cells\":{\"fill\":{\"color\":\"#EBF0F8\"},\"line\":{\"color\":\"white\"}},\"header\":{\"fill\":{\"color\":\"#C8D4E3\"},\"line\":{\"color\":\"white\"}},\"type\":\"table\"}]},\"layout\":{\"annotationdefaults\":{\"arrowcolor\":\"#2a3f5f\",\"arrowhead\":0,\"arrowwidth\":1},\"autotypenumbers\":\"strict\",\"coloraxis\":{\"colorbar\":{\"outlinewidth\":0,\"ticks\":\"\"}},\"colorscale\":{\"diverging\":[[0,\"#8e0152\"],[0.1,\"#c51b7d\"],[0.2,\"#de77ae\"],[0.3,\"#f1b6da\"],[0.4,\"#fde0ef\"],[0.5,\"#f7f7f7\"],[0.6,\"#e6f5d0\"],[0.7,\"#b8e186\"],[0.8,\"#7fbc41\"],[0.9,\"#4d9221\"],[1,\"#276419\"]],\"sequential\":[[0.0,\"#0d0887\"],[0.1111111111111111,\"#46039f\"],[0.2222222222222222,\"#7201a8\"],[0.3333333333333333,\"#9c179e\"],[0.4444444444444444,\"#bd3786\"],[0.5555555555555556,\"#d8576b\"],[0.6666666666666666,\"#ed7953\"],[0.7777777777777778,\"#fb9f3a\"],[0.8888888888888888,\"#fdca26\"],[1.0,\"#f0f921\"]],\"sequentialminus\":[[0.0,\"#0d0887\"],[0.1111111111111111,\"#46039f\"],[0.2222222222222222,\"#7201a8\"],[0.3333333333333333,\"#9c179e\"],[0.4444444444444444,\"#bd3786\"],[0.5555555555555556,\"#d8576b\"],[0.6666666666666666,\"#ed7953\"],[0.7777777777777778,\"#fb9f3a\"],[0.8888888888888888,\"#fdca26\"],[1.0,\"#f0f921\"]]},\"colorway\":[\"#636efa\",\"#EF553B\",\"#00cc96\",\"#ab63fa\",\"#FFA15A\",\"#19d3f3\",\"#FF6692\",\"#B6E880\",\"#FF97FF\",\"#FECB52\"],\"font\":{\"color\":\"#2a3f5f\"},\"geo\":{\"bgcolor\":\"white\",\"lakecolor\":\"white\",\"landcolor\":\"#E5ECF6\",\"showlakes\":true,\"showland\":true,\"subunitcolor\":\"white\"},\"hoverlabel\":{\"align\":\"left\"},\"hovermode\":\"closest\",\"mapbox\":{\"style\":\"light\"},\"paper_bgcolor\":\"white\",\"plot_bgcolor\":\"#E5ECF6\",\"polar\":{\"angularaxis\":{\"gridcolor\":\"white\",\"linecolor\":\"white\",\"ticks\":\"\"},\"bgcolor\":\"#E5ECF6\",\"radialaxis\":{\"gridcolor\":\"white\",\"linecolor\":\"white\",\"ticks\":\"\"}},\"scene\":{\"xaxis\":{\"backgroundcolor\":\"#E5ECF6\",\"gridcolor\":\"white\",\"gridwidth\":2,\"linecolor\":\"white\",\"showbackground\":true,\"ticks\":\"\",\"zerolinecolor\":\"white\"},\"yaxis\":{\"backgroundcolor\":\"#E5ECF6\",\"gridcolor\":\"white\",\"gridwidth\":2,\"linecolor\":\"white\",\"showbackground\":true,\"ticks\":\"\",\"zerolinecolor\":\"white\"},\"zaxis\":{\"backgroundcolor\":\"#E5ECF6\",\"gridcolor\":\"white\",\"gridwidth\":2,\"linecolor\":\"white\",\"showbackground\":true,\"ticks\":\"\",\"zerolinecolor\":\"white\"}},\"shapedefaults\":{\"line\":{\"color\":\"#2a3f5f\"}},\"ternary\":{\"aaxis\":{\"gridcolor\":\"white\",\"linecolor\":\"white\",\"ticks\":\"\"},\"baxis\":{\"gridcolor\":\"white\",\"linecolor\":\"white\",\"ticks\":\"\"},\"bgcolor\":\"#E5ECF6\",\"caxis\":{\"gridcolor\":\"white\",\"linecolor\":\"white\",\"ticks\":\"\"}},\"title\":{\"x\":0.05},\"xaxis\":{\"automargin\":true,\"gridcolor\":\"white\",\"linecolor\":\"white\",\"ticks\":\"\",\"title\":{\"standoff\":15},\"zerolinecolor\":\"white\",\"zerolinewidth\":2},\"yaxis\":{\"automargin\":true,\"gridcolor\":\"white\",\"linecolor\":\"white\",\"ticks\":\"\",\"title\":{\"standoff\":15},\"zerolinecolor\":\"white\",\"zerolinewidth\":2}}},\"xaxis\":{\"anchor\":\"y\",\"domain\":[0.0,1.0],\"title\":{\"text\":\"chap_id\"}},\"yaxis\":{\"anchor\":\"x\",\"domain\":[0.0,1.0],\"title\":{\"text\":\"value\"}},\"legend\":{\"title\":{\"text\":\"emo\"},\"tracegroupgap\":0},\"margin\":{\"t\":60}},                        {\"responsive\": true}                    ).then(function(){\n",
       "                            \n",
       "var gd = document.getElementById('396f1362-b47f-4ea7-88b9-e960af7114a9');\n",
       "var x = new MutationObserver(function (mutations, observer) {{\n",
       "        var display = window.getComputedStyle(gd).display;\n",
       "        if (!display || display === 'none') {{\n",
       "            console.log([gd, 'removed!']);\n",
       "            Plotly.purge(gd);\n",
       "            observer.disconnect();\n",
       "        }}\n",
       "}});\n",
       "\n",
       "// Listen for the removal of the full notebook cells\n",
       "var notebookContainer = gd.closest('#notebook-container');\n",
       "if (notebookContainer) {{\n",
       "    x.observe(notebookContainer, {childList: true});\n",
       "}}\n",
       "\n",
       "// Listen for the clearing of the current output cell\n",
       "var outputEl = gd.closest('.output');\n",
       "if (outputEl) {{\n",
       "    x.observe(outputEl, {childList: true});\n",
       "}}\n",
       "\n",
       "                        })                };                });            </script>        </div>"
      ]
     },
     "metadata": {},
     "output_type": "display_data"
    }
   ],
   "source": [
    "px.line(ADVENTURES_chaps_thin, x='chap_id', y='value', color='emo')"
   ]
  }
 ],
 "metadata": {
  "kernelspec": {
   "display_name": "Python 3 (ipykernel)",
   "language": "python",
   "name": "python3"
  },
  "language_info": {
   "codemirror_mode": {
    "name": "ipython",
    "version": 3
   },
   "file_extension": ".py",
   "mimetype": "text/x-python",
   "name": "python",
   "nbconvert_exporter": "python",
   "pygments_lexer": "ipython3",
   "version": "3.9.12"
  }
 },
 "nbformat": 4,
 "nbformat_minor": 5
}
